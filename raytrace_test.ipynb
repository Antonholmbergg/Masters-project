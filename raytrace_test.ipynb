{
 "cells": [
  {
   "cell_type": "markdown",
   "metadata": {},
   "source": [
    "## For testing a saved raytracing model"
   ]
  },
  {
   "cell_type": "code",
   "execution_count": null,
   "metadata": {},
   "outputs": [],
   "source": [
    "import os\n",
    "from gpuutils import GpuUtils\n",
    "GpuUtils.allocate(gpu_count=1, framework='keras')\n",
    "\n",
    "import tensorflow as tf\n",
    "physical_devices = tf.config.list_physical_devices('GPU')\n",
    "for device in physical_devices:\n",
    "    tf.config.experimental.set_memory_growth(device, True)\n",
    "\n",
    "import pandas as pd\n",
    "from tensorflow import keras\n",
    "import numpy as np\n",
    "np.set_printoptions(precision=3, suppress=True)\n",
    "\n",
    "from matplotlib.ticker import AutoMinorLocator\n",
    "\n",
    "from matplotlib import pyplot as plt, cm\n",
    "import seaborn as sns\n",
    "from radiotools import plthelpers as php\n",
    "\n",
    "pal = sns.color_palette(\"colorblind\")\n",
    "print(pal.as_hex())\n",
    "plt.style.use('plot_style.txt')"
   ]
  },
  {
   "cell_type": "markdown",
   "metadata": {},
   "source": [
    "### Load the data"
   ]
  },
  {
   "cell_type": "code",
   "execution_count": null,
   "metadata": {},
   "outputs": [],
   "source": [
    "#df_test = pd.read_csv('/mnt/md0/aholmberg/data/raytrace_samples_random.csv')\n",
    "df_test = pd.read_pickle('/mnt/md0/aholmberg/data/raytracing_random_spherical.pkl')"
   ]
  },
  {
   "cell_type": "markdown",
   "metadata": {},
   "source": [
    "### Load the model"
   ]
  },
  {
   "cell_type": "code",
   "execution_count": null,
   "metadata": {},
   "outputs": [],
   "source": [
    "model_name = 'ResNetFc_w50_d14_vwidth20_vdepth2_news_lrelu_ln_179deg_250_np'\n",
    "model_path = '/mnt/md0/aholmberg/models/' + model_name\n",
    "path_to_loss = 'losses/history_' + model_name + '.pkl'\n",
    "model = keras.models.load_model(model_path)\n",
    "print(model.summary())"
   ]
  },
  {
   "cell_type": "markdown",
   "metadata": {},
   "source": [
    "### Load and find minimum loss "
   ]
  },
  {
   "cell_type": "code",
   "execution_count": null,
   "metadata": {},
   "outputs": [],
   "source": [
    "history = pd.read_pickle(path_to_loss)"
   ]
  },
  {
   "cell_type": "code",
   "execution_count": null,
   "metadata": {},
   "outputs": [],
   "source": [
    "idx = history['val_loss'].idxmin()\n",
    "print(history['val_dense_1_loss'].iloc[idx])\n",
    "print(history['val_loss'].iloc[idx])"
   ]
  },
  {
   "cell_type": "markdown",
   "metadata": {},
   "source": [
    "### Plot the losses of the different outputs"
   ]
  },
  {
   "cell_type": "code",
   "execution_count": null,
   "metadata": {},
   "outputs": [],
   "source": [
    "fig, ax = plt.subplots(1,1, figsize=(5,5))\n",
    "ax.set_yscale('log')\n",
    "ax.set_xlabel('epoch')\n",
    "ax.set_ylabel('MSE loss')\n",
    "for i in range(1,5):\n",
    "    ax.plot(history[f'dense_{i}_loss'])\n",
    "    ax.plot(history[f'val_dense_{i}_loss'])"
   ]
  },
  {
   "cell_type": "markdown",
   "metadata": {},
   "source": [
    "### Define and scale the test data"
   ]
  },
  {
   "cell_type": "code",
   "execution_count": null,
   "metadata": {},
   "outputs": [],
   "source": [
    "\"\"\" sc_pos_r = df_test['source_pos_r'].to_numpy().astype(np.float32)\n",
    "sc_pos_z = df_test['source_pos_z'].to_numpy().astype(np.float32)\n",
    "ant_pos_z = df_test['antenna_pos_z'].to_numpy().astype(np.float32)\n",
    "x_test = np.stack((sc_pos_r, sc_pos_z, ant_pos_z), axis=1)\n",
    "\n",
    "travel_time = df_test['travel_time'].to_numpy().astype(np.float32)\n",
    "path_length = df_test['path_length'].to_numpy().astype(np.float32)\n",
    "launch = df_test['launch_angle'].to_numpy().astype(np.float32)\n",
    "recieve = df_test['recieve_angle'].to_numpy().astype(np.float32)\n",
    "y_test = np.stack((travel_time, path_length, launch, recieve), axis=1)\n",
    "\n",
    "type = df_test['type'].to_numpy().astype(np.float32)\n",
    "\n",
    "\n",
    "unique, index, count = np.unique(x_test, return_counts=True, return_index=True, axis=0)\n",
    "\n",
    "type = np.delete(type, index[count == 1], axis=0)\n",
    "type_1 = type[0::2]\n",
    "type_2 = type[1::2]\n",
    "\n",
    "#x_test[index[count == 1], :]\n",
    "x_new_test = np.delete(x_test, index[count == 1], axis=0)\n",
    "y_new_test = np.delete(y_test, index[count == 1], axis=0)\n",
    "unique, index, count = np.unique(x_new_test, return_counts=True, return_index=True, axis=0) \"\"\"\n",
    "\n",
    "sc_pos_d = df_test['source_pos_d'].to_numpy().astype(np.float64)\n",
    "sc_pos_phi = df_test['source_pos_phi'].to_numpy().astype(np.float64)\n",
    "ant_pos_z = df_test['antenna_pos_z'].to_numpy().astype(np.float64)\n",
    "x = np.stack((sc_pos_d, sc_pos_phi, ant_pos_z), axis=1)\n",
    "\n",
    "\n",
    "travel_time = df_test['travel_time'].to_numpy().astype(np.float64)\n",
    "path_length = df_test['path_length'].to_numpy().astype(np.float64)\n",
    "launch = df_test['l_angle'].to_numpy().astype(np.float64)\n",
    "recieve = df_test['r_angle'].to_numpy().astype(np.float64)\n",
    "y = np.stack((travel_time, path_length, launch, recieve), axis=1)\n",
    "\n",
    "unique, index, count = np.unique(x, return_counts=True, return_index=True, axis=0)\n",
    "x_new_test = np.delete(x, index[count == 1], axis=0)\n",
    "y_new_test = np.delete(y, index[count == 1], axis=0)\n",
    "\n",
    "type = df_test['type'].to_numpy().astype(np.float32)\n",
    "type = np.delete(type, index[count == 1], axis=0)\n",
    "type_1 = type[0::2]\n",
    "type_2 = type[1::2]\n",
    "\n",
    "x_test = x_new_test[0::2,:]\n",
    "\n",
    "y_temp1_test  = y_new_test[0::2,:]\n",
    "y_temp2_test  = y_new_test[1::2,:]\n",
    "y_new_test = np.zeros((y_temp1_test.shape[0], 8))\n",
    "\n",
    "\n",
    "for i in range(4):\n",
    "    y_new_test[:,2*i] = y_temp1_test[:,i]\n",
    "    y_new_test[:,2*i+1] = y_temp2_test[:,i]\n",
    "\n",
    "\n",
    "y_test = y_new_test\n",
    "\n",
    "index = x_test[:, 1] > 179\n",
    "x_test = np.delete(x_test, index, axis=0)\n",
    "y_test = np.delete(y_test, index, axis=0)\n",
    "type_1 = np.delete(type_1, index, axis=0)\n",
    "type_2 = np.delete(type_2, index, axis=0)\n",
    "\n",
    "norm_x_test = np.zeros_like(x_test)\n",
    "norm_x_test[:, 0] = x_test[:, 0] / (np.sqrt(2700**2 + 2000**2))\n",
    "norm_x_test[:, 1] = x_test[:, 1] / (180)\n",
    "norm_x_test[:, 2] = x_test[:, 2] / -(200)\n",
    "\n",
    "norm_y_test = np.zeros_like(y_test)\n",
    "norm_y_test[:, 0] = y_test[:, 0] / (20000)\n",
    "norm_y_test[:, 1] = y_test[:, 1] / (21000)\n",
    "norm_y_test[:, 2] = y_test[:, 2] / (3500)\n",
    "norm_y_test[:, 3] = y_test[:, 3] / (3800)\n",
    "norm_y_test[:, 4] = y_test[:, 4] / (180)\n",
    "norm_y_test[:, 5] = (y_test[:, 5] - 90) / (90)\n",
    "norm_y_test[:, 6] = y_test[:, 6] / (180)\n",
    "norm_y_test[:, 7] = y_test[:, 7] / (90)"
   ]
  },
  {
   "cell_type": "code",
   "execution_count": null,
   "metadata": {},
   "outputs": [],
   "source": [
    "type_sol_1 = np.array(['direct' if x == 1 else 'refracted' for x in type_1])\n",
    "type_sol_2 = np.array(['reflected' if x == 3 else 'refracted' for x in type_2])"
   ]
  },
  {
   "cell_type": "markdown",
   "metadata": {},
   "source": [
    "### Predict quantities of interest and inverse scale them"
   ]
  },
  {
   "cell_type": "code",
   "execution_count": null,
   "metadata": {},
   "outputs": [],
   "source": [
    "temp1 = model(norm_x_test[:int(norm_x_test.shape[0]/2)])\n",
    "temp2 = model(norm_x_test[int(norm_x_test.shape[0]/2):])\n",
    "print(temp1[0].shape ,temp1[1].shape, temp1[2].shape, temp1[3].shape,temp2[0].shape ,temp2[1].shape, temp2[2].shape)\n",
    "y_test_pred = np.zeros((norm_y_test.shape))\n",
    "\n",
    "y_test_pred[:int(norm_x_test.shape[0]/2),:] = np.concatenate((temp1[0], temp1[1], temp1[2], temp1[3]), axis=1)\n",
    "y_test_pred[int(norm_x_test.shape[0]/2):,:] = np.concatenate((temp2[0], temp2[1], temp2[2], temp2[3]), axis=1)\n",
    "\n",
    "y_test_inv = np.zeros_like(y_test_pred)\n",
    "y_test_inv[:, 0] = y_test_pred[:, 0] * (20000)\n",
    "y_test_inv[:, 1] = y_test_pred[:, 1] * (21000)\n",
    "y_test_inv[:, 2] = y_test_pred[:, 2] * (3500)\n",
    "y_test_inv[:, 3] = y_test_pred[:, 3] * (3800)\n",
    "y_test_inv[:, 4] = y_test_pred[:, 4] * (180)\n",
    "y_test_inv[:, 5] = y_test_pred[:, 5] * 90 + 90\n",
    "y_test_inv[:, 6] = y_test_pred[:, 6] * (180)\n",
    "y_test_inv[:, 7] = y_test_pred[:, 7] * (90)\n",
    "\n",
    "print(y_test_pred.shape)\n",
    "y_time = y_test_pred[:,:2]\n",
    "y_length = y_test_pred[:,2:4]\n",
    "y_launch = y_test_pred[:,4:6]\n",
    "y_recieve = y_test_pred[:,6:8]"
   ]
  },
  {
   "cell_type": "markdown",
   "metadata": {},
   "source": [
    "### Find the error, compute statsand make a table"
   ]
  },
  {
   "cell_type": "code",
   "execution_count": null,
   "metadata": {},
   "outputs": [],
   "source": [
    "diff_deg = y_test - y_test_inv\n",
    "\n",
    "sol = ['time_sol_1:', \n",
    "       'time_sol_2:',\n",
    "       'length_sol_1:',\n",
    "       'length_sol_2:',\n",
    "       'launch_sol_1:',\n",
    "       'launch_sol_2:',\n",
    "       'recieve_sol_1:',\n",
    "       'recieve_sol_2:']\n",
    "\n",
    "tab = np.zeros((8,5))\n",
    "for i in range(8):\n",
    "    mean = np.mean(diff_deg[:,i])\n",
    "    med = np.median(diff_deg[:,i])\n",
    "    std = np.std(diff_deg[:,i])\n",
    "    per = np.percentile(diff_deg[:,i], (16, 84))\n",
    "    print(sol[i] + f' mean: {mean:.4f} median: {med:.4f}  std: {std:.4f}  percentile 16: {per[0]:.4f} percentile 84: {per[1]:.4f}')\n",
    "    l = [mean, med, std, per[0], per[1]]\n",
    "    tab[i,:] = l\n",
    "\n",
    "temp = pd.DataFrame(tab)"
   ]
  },
  {
   "cell_type": "code",
   "execution_count": null,
   "metadata": {},
   "outputs": [],
   "source": [
    "print(temp.to_latex(header=['mean', 'median', '$\\sigma$', '16%', '84%'], float_format='%.3E'))"
   ]
  },
  {
   "cell_type": "markdown",
   "metadata": {},
   "source": [
    "### Try 2-d histogram of error"
   ]
  },
  {
   "cell_type": "code",
   "execution_count": null,
   "metadata": {},
   "outputs": [],
   "source": [
    "data = pd.DataFrame({'x-val':y_test[:,0] , 'y-val':(y_test_inv[:,0] - y_test[:,0]), 'type':type_sol_1})\n",
    "sns.histplot(data, x=\"x-val\", y=\"y-val\", palette=['#0173b2', '#de8f05'], hue=type)"
   ]
  },
  {
   "cell_type": "markdown",
   "metadata": {},
   "source": [
    "### scatter error vs true value with distributions of the point on the margins"
   ]
  },
  {
   "cell_type": "code",
   "execution_count": null,
   "metadata": {},
   "outputs": [],
   "source": [
    "plt.rcParams.update({'font.size': 14})\n",
    "#sns.set_theme()\n",
    "for sol in range (8):\n",
    "    if sol%2 == 0:\n",
    "        type = type_sol_1\n",
    "    else:\n",
    "        type = type_sol_2\n",
    "    data = pd.DataFrame({'x-val':y_test[:,sol] , 'y-val':(y_test_inv[:,sol] - y_test[:,sol]), 'type':type})\n",
    "\n",
    "    if sol%2 == 0:\n",
    "        g = sns.JointGrid(data=data,\n",
    "                    x=\"x-val\",\n",
    "                    y=\"y-val\",\n",
    "                    hue=type,\n",
    "                    palette=['#0173b2', '#de8f05'],\n",
    "                    space=0)\n",
    "    else:\n",
    "        g = sns.JointGrid(data=data,\n",
    "                    x=\"x-val\",\n",
    "                    y=\"y-val\",\n",
    "                    hue=type,\n",
    "                    palette=['#029e73', '#de8f05'],\n",
    "                    space=0)\n",
    "    \n",
    "    g.figure.set_size_inches((5,4))\n",
    "    g.ax_joint.xaxis.set_minor_locator(  AutoMinorLocator(5))\n",
    "    g.ax_joint.yaxis.set_minor_locator(  AutoMinorLocator(5))\n",
    "    g.plot_joint(sns.scatterplot, s=10, alpha=.4)\n",
    "    g.ax_joint.legend(frameon=False)\n",
    "    g.plot_marginals(sns.histplot, element=\"step\", fill=False)\n",
    "    #g.ax_marg_y.set_ticks_off()\n",
    "    if sol == 0 or sol == 1:\n",
    "        g.set_axis_labels(xlabel='True traveltime [ns]', ylabel='Error travel time [ns]')\n",
    "    elif sol == 2 or sol == 3:\n",
    "        g.set_axis_labels(xlabel='True path length [m]', ylabel='Error path length [m]')\n",
    "    elif sol == 4 or sol == 5:\n",
    "        g.set_axis_labels(xlabel='True launch angle [$^\\circ$]', ylabel='Error launch angle [$^\\circ$]')\n",
    "    elif sol == 6 or sol == 7:\n",
    "        g.set_axis_labels(xlabel='True receive angle [$^\\circ$]', ylabel='Error receive angle [$^\\circ$]')\n",
    "    #g.savefig(f'thesis/Exjobb-rapport/figures/sol_{sol}_simpler.png', dpi=300)"
   ]
  },
  {
   "cell_type": "markdown",
   "metadata": {},
   "source": [
    "### Try kde plot zoomed in"
   ]
  },
  {
   "cell_type": "code",
   "execution_count": null,
   "metadata": {},
   "outputs": [],
   "source": [
    "plt.rcParams.update({'font.size': 14})\n",
    "\n",
    "print(y_test_inv.shape, type_sol_1.shape)\n",
    "for sol in range (1):\n",
    "    if sol%2 == 0:\n",
    "        type = type_sol_1\n",
    "    else:\n",
    "        type = type_sol_2\n",
    "    data = pd.DataFrame({'x-val':y_test[:,sol] , 'y-val':(y_test_inv[:,sol] - y_test[:,sol]), 'type':type})\n",
    "    lim = 3*np.std(y_test_inv[:,sol] - y_test[:,sol])\n",
    "    if sol%2 == 0:\n",
    "        g = sns.JointGrid(data=data,\n",
    "                    x=\"x-val\",\n",
    "                    y=\"y-val\",\n",
    "                    hue=type,\n",
    "                    ylim=(-lim,lim),\n",
    "                    palette=['#0173b2', '#de8f05'],\n",
    "                    space=0)\n",
    "    else:\n",
    "        g = sns.JointGrid(data=data,\n",
    "                    x=\"x-val\",\n",
    "                    y=\"y-val\",\n",
    "                    hue=type,\n",
    "                    ylim=(-lim,lim),\n",
    "                    palette=['#029e73', '#de8f05'],\n",
    "                    space=0)\n",
    "    \n",
    "    \n",
    "    g.figure.set_size_inches((5,4))\n",
    "    g.ax_joint.xaxis.set_minor_locator(  AutoMinorLocator(5))\n",
    "    g.ax_joint.yaxis.set_minor_locator(  AutoMinorLocator(5))\n",
    "    g.plot_joint(sns.kdeplot, s=10, alpha=.4)\n",
    "    g.plot_marginals(sns.histplot)\n",
    "    if sol == 0 or sol == 1:\n",
    "        g.set_axis_labels(xlabel='True traveltime [ns]', ylabel='Error travel time [ns]')\n",
    "    elif sol == 2 or sol == 3:\n",
    "        g.set_axis_labels(xlabel='True path length [m]', ylabel='Error path length [m]')\n",
    "    elif sol == 4 or sol == 5:\n",
    "        g.set_axis_labels(xlabel='True launch angle [$^\\circ$]', ylabel='Error launch angle [$^\\circ$]')\n",
    "    elif sol == 6 or sol == 7:\n",
    "        g.set_axis_labels(xlabel='True recieve angle [$^\\circ$]', ylabel='Error recieve angle [$^\\circ$]')\n",
    "    #g.savefig(f'/mnt/md0/aholmberg/plots/raytrace/jointgrid/sol_zoomed_{sol}_simpler.png')"
   ]
  },
  {
   "cell_type": "markdown",
   "metadata": {},
   "source": [
    "### plot histograms of the error"
   ]
  },
  {
   "cell_type": "code",
   "execution_count": null,
   "metadata": {},
   "outputs": [],
   "source": [
    "x_lab = ['travel time [ns]', 'path length [m]', 'launch angle $[^\\circ]$', 'recieve angle $[^\\circ]$']\n",
    "for i in range(8):\n",
    "    std = np.std(diff_deg[:,i])\n",
    "    bins = np.linspace(-3*std, 3*std, 100)\n",
    "    fix, ax = php.get_histogram(diff_deg[:,i], bins=bins)\n",
    "    x_label = 'Error in ' + x_lab[int(i/2)]\n",
    "    plt.xlabel(x_label)\n",
    "    #plt.savefig(f'/mnt/md0/aholmberg/plots/raytrace/jointgrid/hist_sol_{i}.png')"
   ]
  },
  {
   "cell_type": "markdown",
   "metadata": {},
   "source": [
    "### Plot outliers to find potential pattern"
   ]
  },
  {
   "cell_type": "code",
   "execution_count": null,
   "metadata": {},
   "outputs": [],
   "source": [
    "sol = 0\n",
    "if sol%2 == 0:\n",
    "    type = type_sol_1\n",
    "else:\n",
    "    type = type_sol_2\n",
    "\n",
    "err = y_test_inv[:,sol] - y_test[:,sol]\n",
    "index_of_outliers = np.abs(err) > 2  # arbitrary\n",
    "out_err = err[index_of_outliers]\n",
    "out_true = y_test[index_of_outliers,sol]\n",
    "out_type = type[index_of_outliers]\n",
    "out_d = x_test[index_of_outliers, 0]\n",
    "out_phi = x_test[index_of_outliers, 1]\n",
    "out_z = x_test[index_of_outliers, 2]\n",
    "data = pd.DataFrame({'distance':out_d, 'angle':out_phi, 'z-pos':out_z, 'true_type':out_type})\n",
    "#'true_time':out_true , 'error':out_err, \n",
    "print(data.shape)\n",
    "data.head()"
   ]
  },
  {
   "cell_type": "code",
   "execution_count": null,
   "metadata": {},
   "outputs": [],
   "source": [
    "g = sns.pairplot(data=data, hue='true_type')\n",
    "#g.savefig('plots/length_sol2_1m_outliers_179_5deg.png')"
   ]
  },
  {
   "cell_type": "markdown",
   "metadata": {},
   "source": [
    "# Make heatmap\n",
    "### Ploting heatmap of error using a test set with fixed antenna position\n",
    "The code for binning the error is very slow ~1h so should be optimised"
   ]
  },
  {
   "cell_type": "code",
   "execution_count": null,
   "metadata": {},
   "outputs": [],
   "source": [
    "df_test = pd.read_pickle('/mnt/md0/aholmberg/data/raytrace_random_17_antenna_1_spherical.pkl')"
   ]
  },
  {
   "cell_type": "code",
   "execution_count": null,
   "metadata": {},
   "outputs": [],
   "source": [
    "sc_pos_d = df_test['source_pos_d'].to_numpy().astype(np.float64)\n",
    "sc_pos_phi = df_test['source_pos_phi'].to_numpy().astype(np.float64)\n",
    "ant_pos_z = df_test['antenna_pos_z'].to_numpy().astype(np.float64)\n",
    "x = np.stack((sc_pos_d, sc_pos_phi, ant_pos_z), axis=1)\n",
    "\n",
    "\n",
    "travel_time = df_test['travel_time'].to_numpy().astype(np.float64)\n",
    "path_length = df_test['path_length'].to_numpy().astype(np.float64)\n",
    "launch = df_test['l_angle'].to_numpy().astype(np.float64)\n",
    "recieve = df_test['r_angle'].to_numpy().astype(np.float64)\n",
    "y = np.stack((travel_time, path_length, launch, recieve), axis=1)\n",
    "\n",
    "unique, index, count = np.unique(x, return_counts=True, return_index=True, axis=0)\n",
    "x_new_test = np.delete(x, index[count == 1], axis=0)\n",
    "y_new_test = np.delete(y, index[count == 1], axis=0)\n",
    "\n",
    "type = df_test['type'].to_numpy().astype(np.float32)\n",
    "type = np.delete(type, index[count == 1], axis=0)\n",
    "type_1 = type[0::2]\n",
    "type_2 = type[1::2]\n",
    "\n",
    "x_test = x_new_test[0::2,:]\n",
    "\n",
    "y_temp1_test  = y_new_test[0::2,:]\n",
    "y_temp2_test  = y_new_test[1::2,:]\n",
    "y_new_test = np.zeros((y_temp1_test.shape[0], 8))\n",
    "\n",
    "\n",
    "for i in range(4):\n",
    "    y_new_test[:,2*i] = y_temp1_test[:,i]\n",
    "    y_new_test[:,2*i+1] = y_temp2_test[:,i]\n",
    "\n",
    "\n",
    "y_test = y_new_test\n",
    "\n",
    "index = x_test[:, 1] > 179\n",
    "x_test = np.delete(x_test, index, axis=0)\n",
    "y_test = np.delete(y_test, index, axis=0)\n",
    "type_1 = np.delete(type_1, index, axis=0)\n",
    "type_2 = np.delete(type_2, index, axis=0)\n",
    "\n",
    "norm_x_test = np.zeros_like(x_test)\n",
    "norm_x_test[:, 0] = x_test[:, 0] / (np.sqrt(2700**2 + 2000**2))\n",
    "norm_x_test[:, 1] = x_test[:, 1] / (180)\n",
    "norm_x_test[:, 2] = x_test[:, 2] / -(200)\n",
    "\n",
    "norm_y_test = np.zeros_like(y_test)\n",
    "norm_y_test[:, 0] = y_test[:, 0] / (20000)\n",
    "norm_y_test[:, 1] = y_test[:, 1] / (21000)\n",
    "norm_y_test[:, 2] = y_test[:, 2] / (3500)\n",
    "norm_y_test[:, 3] = y_test[:, 3] / (3800)\n",
    "norm_y_test[:, 4] = y_test[:, 4] / (180)\n",
    "norm_y_test[:, 5] = (y_test[:, 5] - 90) / (90)\n",
    "norm_y_test[:, 6] = y_test[:, 6] / (180)\n",
    "norm_y_test[:, 7] = y_test[:, 7] / (90)"
   ]
  },
  {
   "cell_type": "code",
   "execution_count": null,
   "metadata": {},
   "outputs": [],
   "source": [
    "type_sol_1 = np.array(['direct' if x == 1 else 'refracted' for x in type_1])\n",
    "type_sol_2 = np.array(['reflected' if x == 3 else 'refracted' for x in type_2])"
   ]
  },
  {
   "cell_type": "code",
   "execution_count": null,
   "metadata": {},
   "outputs": [],
   "source": [
    "temp1 = model(norm_x_test[:int(norm_x_test.shape[0]/2)])\n",
    "temp2 = model(norm_x_test[int(norm_x_test.shape[0]/2):])\n",
    "y_test_pred = np.zeros((norm_y_test.shape))\n",
    "\n",
    "y_test_pred[:int(norm_x_test.shape[0]/2),:] = np.concatenate((temp1[0], temp1[1], temp1[2], temp1[3]), axis=1)\n",
    "y_test_pred[int(norm_x_test.shape[0]/2):,:] = np.concatenate((temp2[0], temp2[1], temp2[2], temp2[3]), axis=1)\n",
    "\n",
    "# y_test_inv = scaler_y.inverse_transform(y_test_pred)\n",
    "\n",
    "\n",
    "y_test_inv = np.zeros_like(y_test_pred)\n",
    "y_test_inv[:, 0] = y_test_pred[:, 0] * (20000)\n",
    "y_test_inv[:, 1] = y_test_pred[:, 1] * (21000)\n",
    "y_test_inv[:, 2] = y_test_pred[:, 2] * (3500)\n",
    "y_test_inv[:, 3] = y_test_pred[:, 3] * (3800)\n",
    "y_test_inv[:, 4] = y_test_pred[:, 4] * (180)\n",
    "y_test_inv[:, 5] = y_test_pred[:, 5] * 90 + 90\n",
    "y_test_inv[:, 6] = y_test_pred[:, 6] * (180)\n",
    "y_test_inv[:, 7] = y_test_pred[:, 7] * (90)\n",
    "\n",
    "y_time = y_test_pred[:,:2]\n",
    "y_length = y_test_pred[:,2:4]\n",
    "y_launch = y_test_pred[:,4:6]\n",
    "y_recieve = y_test_pred[:,6:8]\n",
    "\n"
   ]
  },
  {
   "cell_type": "code",
   "execution_count": null,
   "metadata": {},
   "outputs": [],
   "source": [
    "diff = y_test - y_test_inv\n",
    "\n",
    "\n",
    "sol = ['time_sol_1:', \n",
    "       'time_sol_2:',\n",
    "       'length_sol_1:',\n",
    "       'length_sol_2:',\n",
    "       'launch_sol_1:',\n",
    "       'launch_sol_2:',\n",
    "       'recieve_sol_1:',\n",
    "       'recieve_sol_2:']\n",
    "\n",
    "for i in range(8):\n",
    "    mean = np.mean(diff[:,i])\n",
    "    std = np.std(diff[:,i])\n",
    "    print(sol[i] + f' mean: {mean:.4f}  std: {std:.4f}')"
   ]
  },
  {
   "cell_type": "code",
   "execution_count": null,
   "metadata": {},
   "outputs": [],
   "source": [
    "print(x_test[0, :])\n",
    "x = x_test[0, 0]*np.cos(np.deg2rad(x_test[0, 1] + 90))\n",
    "y = x_test[0, 0]*np.sin(np.deg2rad(x_test[0, 1] + 90)) - 1 # add antenna pos\n",
    "d = np.sqrt(x**2 + (y + 1)**2)\n",
    "print(d)\n",
    "print(x, y)\n",
    "\n",
    "l_bounds = [-2000, -2700, -200]\n",
    "u_bounds = [-1, -1, -1]\n",
    "vals = np.zeros((2650, 1950, 2, 8))\n",
    "coords = np.zeros((2650, 1950, 2))\n",
    "\n",
    "antenna_pos = -1\n",
    "\n",
    "x_test_cart = np.zeros_like(x_test) # change to cartesian coords\n",
    "x_test_cart[:, 0] = x_test[:, 0]*np.cos(np.deg2rad(x_test[:, 1] + 90))\n",
    "x_test_cart[:, 1] = x_test[:, 0]*np.sin(np.deg2rad(x_test[:, 1] + 90)) + antenna_pos\n",
    "x_test_cart[:, 2] = x_test[:, 2]"
   ]
  },
  {
   "cell_type": "code",
   "execution_count": null,
   "metadata": {},
   "outputs": [],
   "source": [
    "\n",
    "for i in range(-1,-2001+50, -1):\n",
    "    for j in range(-1, -2701+50, -1):\n",
    "        coords[2650 + j, -(i+1), :] = [i - 25, j - 25] # mid    point\n",
    "        temp_r = np.logical_and(x_test_cart[:,0] < i, x_test_cart[:,0] > i - 50)\n",
    "        temp_z = np.logical_and(x_test_cart[:,1] < j, x_test_cart[:,1] > j - 50)\n",
    "        binned_vals = diff[np.logical_and(temp_r, temp_z), :]\n",
    "        if binned_vals.shape[0] >= 10:\n",
    "            vals[2650 + j, -(i+1), 0, :] = np.std(binned_vals, axis=0)\n",
    "            vals[2650 + j, -(i+1), 1, :] = np.mean(binned_vals, axis=0)\n",
    "        else:\n",
    "            vals[2650 + j, -(i+1),: , :] = -100"
   ]
  },
  {
   "cell_type": "code",
   "execution_count": null,
   "metadata": {},
   "outputs": [],
   "source": [
    "import matplotlib.colors as colors"
   ]
  },
  {
   "cell_type": "code",
   "execution_count": null,
   "metadata": {},
   "outputs": [],
   "source": [
    "tmp = np.fliplr(vals[:,:,0,1])\n",
    "\n",
    "cmap = cm.get_cmap('viridis')\n",
    "cmap.set_under('white')\n",
    "extent = [-1975, -26, -2675 , -26]\n",
    "\n",
    "\n",
    "fig, ax = plt.subplots(1,2, figsize=(8, 5))\n",
    "ax_im1 = ax[0].imshow(tmp,\n",
    "                  extent=extent,\n",
    "                  norm=colors.LogNorm(vmin=0.0001, vmax=tmp.max()),\n",
    "                  cmap=cmap,\n",
    "                  #vmin=0,\n",
    "                  origin='lower',\n",
    "                  aspect='equal')\n",
    "fig.colorbar(ax_im1, ax=ax[0], label='log$(\\sigma)$ [ns]')\n",
    "ax[0].set_xlabel('x [m]')\n",
    "ax[0].set_ylabel('z [m]')\n",
    "ax_im2 = ax[1].imshow(tmp,\n",
    "                  extent=extent,\n",
    "                  cmap=cmap,\n",
    "                  vmin=0,\n",
    "                  origin='lower',\n",
    "                  aspect='equal')\n",
    "ax[1].set_xlabel('x [m]')\n",
    "ax[1].set_ylabel('z [m]')\n",
    "fig.colorbar(ax_im2, ax=ax[1], label='$\\sigma$ [ns]')\n",
    "fig.tight_layout()\n",
    "#plt.savefig('/mnt/md0/aholmberg/plots/raytrace/jointgrid/heatmap_time_sol2_z50.png')"
   ]
  },
  {
   "cell_type": "code",
   "execution_count": null,
   "metadata": {},
   "outputs": [],
   "source": [
    "cmap = cm.get_cmap('viridis')\n",
    "cmap.set_under('white')\n",
    "\n",
    "extent = [-1975, -26, -2675 , -26]\n",
    "for i in range(8):\n",
    "    tmp = np.fliplr(vals[:,:,0,0])\n",
    "    fig, ax = plt.subplots(figsize=(10, 5))\n",
    "\n",
    "    ax_im = ax.imshow(tmp,\n",
    "                    extent=extent,\n",
    "                    cmap=cmap,\n",
    "                    vmin=0,\n",
    "                    origin='lower',\n",
    "                    aspect='equal')\n",
    "    fig.colorbar(ax_im)\n",
    "    fig.tight_layout()\n",
    "    #fig.savefig(f'thesis/Exjobb-rapport/figures/heatmaps/antenna_1_sol{i}.pdf')"
   ]
  },
  {
   "cell_type": "code",
   "execution_count": null,
   "metadata": {},
   "outputs": [],
   "source": []
  }
 ],
 "metadata": {
  "interpreter": {
   "hash": "f00e6b041018f9c5003ba88af84c1401696fe75920157f0e0f441a09854937f6"
  },
  "kernelspec": {
   "display_name": "Python 3.8.5 ('tf-gpu')",
   "language": "python",
   "name": "python3"
  },
  "language_info": {
   "codemirror_mode": {
    "name": "ipython",
    "version": 3
   },
   "file_extension": ".py",
   "mimetype": "text/x-python",
   "name": "python",
   "nbconvert_exporter": "python",
   "pygments_lexer": "ipython3",
   "version": "3.8.5"
  },
  "orig_nbformat": 4
 },
 "nbformat": 4,
 "nbformat_minor": 2
}
