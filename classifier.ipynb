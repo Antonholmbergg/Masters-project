{
 "cells": [
  {
   "cell_type": "code",
   "execution_count": null,
   "metadata": {},
   "outputs": [],
   "source": [
    "import pandas as pd\n",
    "import tensorflow as tf\n",
    "from tensorflow import keras\n",
    "from tensorflow.keras import layers\n",
    "import numpy as np\n",
    "np.set_printoptions(precision=3, suppress=True)"
   ]
  },
  {
   "cell_type": "code",
   "execution_count": null,
   "metadata": {},
   "outputs": [],
   "source": [
    "df = pd.read_csv('ana_ray_class.csv')#, converters={'source_pos':pd.eval, 'antenna_pos':pd.eval})\n",
    "df.head()"
   ]
  },
  {
   "cell_type": "code",
   "execution_count": null,
   "metadata": {},
   "outputs": [],
   "source": [
    "labels = np.array(df['n_sol'])\n",
    "sc_pos_r = df['source_pos_r'].to_numpy().astype(np.float32)\n",
    "sc_pos_z = df['source_pos_z'].to_numpy().astype(np.float32)\n",
    "ant_pos_z = df['antenna_pos_z'].to_numpy().astype(np.float32)\n",
    "features = np.stack((sc_pos_r, sc_pos_z, ant_pos_z), axis=1)"
   ]
  },
  {
   "cell_type": "code",
   "execution_count": null,
   "metadata": {},
   "outputs": [],
   "source": [
    "features  = features.astype(np.float32)\n",
    "labels[labels == 2] = 1\n",
    "features_train = features[:int(features.shape[0]*0.8)]\n",
    "features_test = features[int(features.shape[0]*0.8):]\n",
    "labels_train = labels[:int(labels.shape[0]*0.8)]\n",
    "labels_test = labels[int(labels.shape[0]*0.8):]"
   ]
  },
  {
   "cell_type": "code",
   "execution_count": null,
   "metadata": {},
   "outputs": [],
   "source": [
    "normalize = layers.Normalization()\n",
    "normalize.adapt(features_train)"
   ]
  },
  {
   "cell_type": "code",
   "execution_count": null,
   "metadata": {},
   "outputs": [],
   "source": [
    "model = keras.Sequential()\n",
    "model.add(normalize)\n",
    "model.add(layers.Dense(128, input_shape=(3, 0), activation='relu'))\n",
    "model.add(layers.Dense(2))"
   ]
  },
  {
   "cell_type": "code",
   "execution_count": null,
   "metadata": {},
   "outputs": [],
   "source": [
    "model.compile(optimizer='adam',\n",
    "              loss=tf.keras.losses.SparseCategoricalCrossentropy(from_logits=True),\n",
    "              #loss=tf.keras.losses.BinaryCrossentropy(),\n",
    "              metrics=['accuracy'])"
   ]
  },
  {
   "cell_type": "code",
   "execution_count": null,
   "metadata": {},
   "outputs": [],
   "source": [
    "model.fit(features_train, labels_train, epochs=5)"
   ]
  },
  {
   "cell_type": "code",
   "execution_count": null,
   "metadata": {},
   "outputs": [],
   "source": [
    "test_loss, test_acc = model.evaluate(features_test,  labels_test, verbose=2)\n",
    "\n",
    "print('\\nTest accuracy:', test_acc)"
   ]
  },
  {
   "cell_type": "code",
   "execution_count": null,
   "metadata": {},
   "outputs": [],
   "source": [
    "y = model(features_test)"
   ]
  },
  {
   "cell_type": "code",
   "execution_count": null,
   "metadata": {},
   "outputs": [],
   "source": [
    "y2 = np.zeros((y.shape[0],))\n",
    "y2[y[:,0] < y[:,1]] = 1\n",
    "\n",
    "true_pos = y2[(y2 + labels_test) == 2]\n",
    "true_neg = y2[(y2 + labels_test) == 0] + 1 \n",
    "pred = labels_test - y2\n",
    "false_neg = pred[pred==1]\n",
    "false_pos = np.abs(pred[pred==-1])"
   ]
  },
  {
   "cell_type": "code",
   "execution_count": null,
   "metadata": {},
   "outputs": [],
   "source": [
    "\n",
    "print(\"total\", np.sum(false_pos) + np.sum(false_neg) + np.sum(true_pos) + np.sum(true_neg), labels_test.shape)\n",
    "print(\"false negative\", np.sum(false_neg), \"rate\", np.sum(false_neg)/labels_test.shape[0]*100,\"%\")\n",
    "print(\"false positive\", np.sum(false_pos), \"rate\", np.sum(false_pos)/labels_test.shape[0]*100,\"%\")\n",
    "print(\"true negative\", np.sum(true_neg), \"rate\", np.sum(true_neg)/labels_test.shape[0]*100,\"%\")\n",
    "print(\"true positive\", np.sum(true_pos), \"rate\", np.sum(true_pos)/labels_test.shape[0]*100,\"%\")"
   ]
  },
  {
   "cell_type": "code",
   "execution_count": null,
   "metadata": {},
   "outputs": [],
   "source": [
    "print(np.sum(labels_test==0), np.sum(labels_test==1))"
   ]
  },
  {
   "cell_type": "code",
   "execution_count": null,
   "metadata": {},
   "outputs": [],
   "source": [
    "keras.utils.plot_model(model, \"solution_classifier.png\")"
   ]
  },
  {
   "cell_type": "code",
   "execution_count": null,
   "metadata": {},
   "outputs": [],
   "source": []
  }
 ],
 "metadata": {
  "interpreter": {
   "hash": "31f2aee4e71d21fbe5cf8b01ff0e069b9275f58929596ceb00d14d90e3e16cd6"
  },
  "kernelspec": {
   "display_name": "Python 3.8.10 64-bit",
   "language": "python",
   "name": "python3"
  },
  "language_info": {
   "codemirror_mode": {
    "name": "ipython",
    "version": 3
   },
   "file_extension": ".py",
   "mimetype": "text/x-python",
   "name": "python",
   "nbconvert_exporter": "python",
   "pygments_lexer": "ipython3",
   "version": "3.8.10"
  },
  "orig_nbformat": 4
 },
 "nbformat": 4,
 "nbformat_minor": 2
}
