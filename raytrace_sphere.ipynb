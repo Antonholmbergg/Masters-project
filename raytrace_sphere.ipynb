{
 "cells": [
  {
   "cell_type": "markdown",
   "metadata": {},
   "source": [
    "## Code for changing a raytracing data file from cartesian to spherical\n",
    "Should be moved to the point of generation instead but had old files that needed to be converted and generating again would have taken too long"
   ]
  },
  {
   "cell_type": "code",
   "execution_count": null,
   "metadata": {},
   "outputs": [],
   "source": [
    "import matplotlib.pyplot as plt\n",
    "import pandas as pd\n",
    "import numpy as np"
   ]
  },
  {
   "cell_type": "code",
   "execution_count": null,
   "metadata": {},
   "outputs": [],
   "source": [
    "# df = pd.read_csv('/mnt/md0/aholmberg/data/raytrace_samples_random.csv')\n",
    "# df = pd.read_csv('/mnt/md0/aholmberg/data/raytrace_samples_sobol_24.csv')\n",
    "# df = pd.read_pickle('/mnt/md0/aholmberg/data/raytracing_24_spherical.pkl')\n",
    "# df = pd.read_pickle('/mnt/md0/aholmberg/data/raytracing_random_spherical.pkl')\n",
    "# df = pd.read_csv('/mnt/md0/aholmberg/data/raytrace_random_25.csv')\n",
    "# df = pd.read_csv('/mnt/md0/aholmberg/data/ana_ray_class_random_25.csv')\n",
    "df = pd.read_csv('/mnt/md0/aholmberg/data/raytrace_random_17_antenna_200.csv')"
   ]
  },
  {
   "cell_type": "code",
   "execution_count": null,
   "metadata": {},
   "outputs": [],
   "source": [
    "#print(df.iloc[0]['launch_vec_r'], df.iloc[0]['launch_vec_z'])\n",
    "#print(np.degrees(np.arctan2(-df.iloc[0]['launch_vec_z'], -df.iloc[0]['launch_vec_r'])) + 360 - 90)\n",
    "#print(df.iloc[0]['recieve_vec_r'], df.iloc[0]['recieve_vec_z'])\n",
    "#print(np.degrees(np.arctan2(df.iloc[0]['recieve_vec_z'], df.iloc[0]['recieve_vec_r'])))\n",
    "\n",
    "\n",
    "# redefine the angle to suit convention\n",
    "\n",
    "df['l_angle_tmp'] = np.degrees(np.arctan2(-df['launch_vec_z'], -df['launch_vec_r']))# + 360 - 90\n",
    "df.loc[df['l_angle_tmp'] < 0, 'l_angle_tmp'] += 360\n",
    "df['l_angle'] = df['l_angle_tmp'] - 90\n",
    "df['tmp'] = np.degrees(np.arctan2(df['recieve_vec_z'], df['recieve_vec_r']))\n",
    "df.loc[df['tmp'] < 0, 'tmp'] += 360\n",
    "df['r_angle'] = df['tmp'] - 90\n",
    "df = df.drop(columns=['tmp', 'launch_angle', 'recieve_angle', 'l_angle_tmp'])\n",
    "\n",
    "# change source coordinates to spherical/polar 3d/2d\n",
    "# print(df.iloc[0]['source_pos_r'], df.iloc[0]['source_pos_z'])\n",
    "# print(np.degrees(np.arctan2(df.iloc[0]['source_pos_z'] - df.iloc[0]['antenna_pos_z'], df.iloc[0]['source_pos_r'])) + 360 - 90)\n",
    "# print(np.sqrt(np.power(df.iloc[0]['source_pos_z'] - df.iloc[0]['antenna_pos_z'], 2) + np.power(df.iloc[0]['source_pos_r'], 2)))\n",
    "\n",
    "df['source_pos_d'] = np.sqrt(np.power(df['source_pos_z'] - df['antenna_pos_z'], 2) + np.power(df['source_pos_r'], 2))\n",
    "df['source_pos_phi'] = np.degrees(np.arctan2(df['source_pos_z'] - df['antenna_pos_z'], df['source_pos_r']))\n",
    "df.loc[df['source_pos_phi'] < 0, 'source_pos_phi'] += 360\n",
    "df['source_pos_phi'] = df['source_pos_phi'] - 90\n",
    "df = df.drop(columns=['source_pos_r', 'source_pos_z', 'launch_vec_r', 'launch_vec_z', 'recieve_vec_r', 'recieve_vec_z'])\n",
    "# df = df.drop(columns=['source_pos_r', 'source_pos_z'])\n",
    "# print(df['r_angle'].max(), df['r_angle'].min())\n",
    "# print(df['l_angle'].max(), df['l_angle'].min())\n"
   ]
  },
  {
   "cell_type": "code",
   "execution_count": null,
   "metadata": {},
   "outputs": [],
   "source": [
    "df.head()"
   ]
  },
  {
   "cell_type": "code",
   "execution_count": null,
   "metadata": {},
   "outputs": [],
   "source": [
    "plt.scatter(range(100000), df['source_pos_phi'].iloc[:100000], s=2, alpha=0.2)"
   ]
  },
  {
   "cell_type": "code",
   "execution_count": null,
   "metadata": {},
   "outputs": [],
   "source": [
    "# df.to_pickle('/mnt/md0/aholmberg/data/raytracing_random_spherical.pkl')\n",
    "# df.to_pickle('/mnt/md0/aholmberg/data/raytracing_random_25_spherical.pkl')\n",
    "# df.to_pickle('/mnt/md0/aholmberg/data/raytracing_class_random_25_spherical.pkl')\n",
    "df.to_pickle('/mnt/md0/aholmberg/data/raytrace_random_17_antenna_200_spherical.pkl')"
   ]
  },
  {
   "cell_type": "code",
   "execution_count": null,
   "metadata": {},
   "outputs": [],
   "source": []
  }
 ],
 "metadata": {
  "interpreter": {
   "hash": "f00e6b041018f9c5003ba88af84c1401696fe75920157f0e0f441a09854937f6"
  },
  "kernelspec": {
   "display_name": "Python 3.8.5 ('tf-gpu')",
   "language": "python",
   "name": "python3"
  },
  "language_info": {
   "codemirror_mode": {
    "name": "ipython",
    "version": 3
   },
   "file_extension": ".py",
   "mimetype": "text/x-python",
   "name": "python",
   "nbconvert_exporter": "python",
   "pygments_lexer": "ipython3",
   "version": "3.8.5"
  },
  "orig_nbformat": 4
 },
 "nbformat": 4,
 "nbformat_minor": 2
}
