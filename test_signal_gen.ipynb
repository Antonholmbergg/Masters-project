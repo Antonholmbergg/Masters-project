{
 "cells": [
  {
   "cell_type": "markdown",
   "metadata": {},
   "source": [
    "# For testing the signal generation and filtering techniques"
   ]
  },
  {
   "cell_type": "code",
   "execution_count": null,
   "metadata": {},
   "outputs": [],
   "source": [
    "from NuRadioMC.SignalGen import askaryan as ask\n",
    "from NuRadioReco.utilities import units, fft\n",
    "import numpy as np\n",
    "import matplotlib.pyplot as plt\n",
    "from matplotlib.ticker import AutoMinorLocator\n",
    "plt.style.use('plot_style.txt')"
   ]
  },
  {
   "cell_type": "markdown",
   "metadata": {},
   "source": [
    "# Compute some signals"
   ]
  },
  {
   "cell_type": "code",
   "execution_count": null,
   "metadata": {},
   "outputs": [],
   "source": [
    "N = 896\n",
    "dt = 1e-10 * units.second\n",
    "#theta1 = (55.82 + 19.99)*units.deg\n",
    "#theta2 = (55.82 - 19.99)*units.deg\n",
    "theta0 = (55.823359)*units.deg\n",
    "theta1 = (55.823359 + 3)*units.deg\n",
    "theta2 = (55.823359 + 6)*units.deg\n",
    "theta3 = (55.823359 + 10)*units.deg\n",
    "theta4 = (55.823359 + 15)*units.deg\n",
    "theta5 = (55.823359 - 3)*units.deg\n",
    "theta6 = (55.823359 - 6)*units.deg\n",
    "theta7 = (55.823359 - 10)*units.deg\n",
    "theta8 = (55.823359 - 15)*units.deg\n",
    "thetas = [theta0, theta1, theta2, theta3, theta4, theta5, theta6, theta7, theta8]\n",
    "#theta1 = 55.823359*units.deg\n",
    "#theta2 = 55.823359*units.deg\n",
    "\n",
    "sr = 1/dt\n",
    "ff = np.fft.rfftfreq(N, dt)\n",
    "\n",
    "traces = []\n",
    "traces_filtered = []\n",
    "spectrum = []\n",
    "spectrum_filtered = []\n",
    "\n",
    "for theta in thetas:\n",
    "    trace = ask.get_time_trace(energy=1*units.EeV,\n",
    "                            theta=theta,\n",
    "                            N=N,\n",
    "                            dt=dt,\n",
    "                            shower_type=\"had\",\n",
    "                            n_index=1.78,\n",
    "                            R=1*units.km,\n",
    "                            model=\"ARZ2020\",\n",
    "                            iN=1)\n",
    "\n",
    "    traces.append(trace)\n",
    "    trace_spectrum = fft.time2freq(trace, sampling_rate=sr)\n",
    "    spectrum.append(trace_spectrum)\n",
    "    freqs = np.abs(trace_spectrum)\n",
    "    i = 0\n",
    "    while  i+2 < freqs.shape[0] and (not (freqs[i] > freqs[i+1] < freqs[i+2])):\n",
    "        i = i + 1\n",
    "\n",
    "    mask = ff < ff[i] #* units.MHz\n",
    "    \n",
    "    \"\"\" \n",
    "    max_freq = lambda x: 5000*np.exp(np.abs(x/units.deg - 56)*(-np.log(5)/10)) * units.MHz\n",
    "    #max_freq = lambda x: (5000 - np.abs(x/units.deg - 56)*240) * units.MHz\n",
    "    mask1 = ff < max_freq(theta1)\n",
    "    mask2 = ff < max_freq(theta2)\n",
    "     \"\"\"\n",
    "\n",
    "    trace_spectrum_filtered = np.zeros((trace_spectrum.shape), dtype=complex)\n",
    "    trace_spectrum_filtered[mask] = trace_spectrum[mask]\n",
    "    spectrum_filtered.append(trace_spectrum_filtered)\n",
    "    trace_filtered = fft.freq2time(trace_spectrum_filtered, sampling_rate=sr)\n",
    "    traces_filtered.append(trace_filtered)\n",
    "\n",
    "time = np.arange(0, N)*dt / units.nanosecond"
   ]
  },
  {
   "cell_type": "markdown",
   "metadata": {},
   "source": [
    "# Plot the filtering of those signals"
   ]
  },
  {
   "cell_type": "code",
   "execution_count": null,
   "metadata": {},
   "outputs": [],
   "source": [
    "fig, ax = plt.subplots(2,2, figsize=(8,5), sharex='col')\n",
    "ax[0,0].plot(time, traces[3]/units.volt*units.meter*1000, color='#0173b2')\n",
    "ax[0,0].plot(time, traces[7]/units.volt*units.meter*1000, color='#de8f05')\n",
    "ax[0,0].set_ylabel('Amplitude [mV/m]')\n",
    "ax[0,1].plot(ff/units.GHz, np.abs(spectrum[3])*1000, label=r'$\\theta$ = +10$^\\circ$', color='#0173b2')\n",
    "ax[0,1].plot(ff/units.GHz, np.abs(spectrum[7])*1000, label=r'$\\theta$ = -10$^\\circ$', color='#de8f05')\n",
    "ax[0,1].set_ylabel('Amplitude [mV/m/GHz]')\n",
    "ax[0,1].legend(frameon=False, loc='upper right')\n",
    "ax[1,1].plot(ff/units.GHz, np.abs(spectrum_filtered[3])*1000, color='#0173b2')\n",
    "ax[1,1].plot(ff/units.GHz, np.abs(spectrum_filtered[7])*1000, color='#de8f05')\n",
    "ax[1,1].set_xlabel('Frequency [GHz]')\n",
    "ax[1,1].set_ylabel('Amplitude [mV/m/GHz]')\n",
    "ax[1,0].plot(time, traces_filtered[3]/units.volt*units.meter*1000, color='#0173b2')\n",
    "ax[1,0].plot(time, traces_filtered[7]/units.volt*units.meter*1000, color='#de8f05')\n",
    "ax[1,0].set_xlabel('Time [ns]')\n",
    "ax[1,0].set_ylabel('Amplitude [mV/m]')\n",
    "\n",
    "\n",
    "ax[0,0].yaxis.set_minor_locator(  AutoMinorLocator(5))\n",
    "ax[0,0].xaxis.set_minor_locator(  AutoMinorLocator(5))\n",
    "ax[0,1].yaxis.set_minor_locator(  AutoMinorLocator(5))\n",
    "ax[0,1].xaxis.set_minor_locator(  AutoMinorLocator(5))\n",
    "ax[1,0].yaxis.set_minor_locator(  AutoMinorLocator(5))\n",
    "ax[1,0].xaxis.set_minor_locator(  AutoMinorLocator(5))\n",
    "ax[1,1].yaxis.set_minor_locator(  AutoMinorLocator(5))\n",
    "ax[1,1].xaxis.set_minor_locator(  AutoMinorLocator(5))\n",
    "\n",
    "fig.tight_layout()\n",
    "\n",
    "#plt.savefig('thesis/Exjobb-rapport/figures/signal_filtering.pdf', dpi=300)"
   ]
  },
  {
   "cell_type": "markdown",
   "metadata": {},
   "source": [
    "# Plot some example signals"
   ]
  },
  {
   "cell_type": "code",
   "execution_count": null,
   "metadata": {},
   "outputs": [],
   "source": [
    "fig, ax = plt.subplots(1,1,figsize=(8,5))\n",
    "colors = ['#ece133', '#de8f05', '#029e73', '#d55e00', '#ece133', '#de8f05', '#029e73', '#d55e00']\n",
    "deg = r'$^\\circ$'\n",
    "th = r'$\\theta$'\n",
    "handle = []\n",
    "for i, trace in enumerate(traces_filtered):\n",
    "    if i == 0:\n",
    "        ax.plot(time[300:600], trace[300:600]/10  /units.millivolt*units.meter, label=f'{th} = {thetas[i]/units.deg - 55.823359:.2f}{deg}', color='#0173b2')\n",
    "    elif i <=4:\n",
    "        ax.plot(time[300:600], trace[300:600]  /units.millivolt*units.meter, label=f'{th} = {thetas[i]/units.deg - 55.823359:.2f}{deg}', color=colors[i-1])\n",
    "    else:\n",
    "        ax.plot(time[300:600], trace[300:600]  /units.millivolt*units.meter, '--', color=colors[i-1])\n",
    "\n",
    "ax.yaxis.set_minor_locator(  AutoMinorLocator(5))\n",
    "ax.xaxis.set_minor_locator(  AutoMinorLocator(5))\n",
    "\n",
    "ax.set_xlabel('Time [ns]')\n",
    "ax.set_ylabel('Amplitude [mV/m]')\n",
    "#ax.set_ylim((-11,20))\n",
    "\n",
    "ax.legend(frameon=False, ncol=1, loc='upper right')\n",
    "\n",
    "plt.text(44.3,10,'0.1x',horizontalalignment='right', color='#0173b2')\n",
    "#plt.savefig('thesis/Exjobb-rapport/figures/signal_example_neg.pdf', dpi=300)"
   ]
  },
  {
   "cell_type": "markdown",
   "metadata": {},
   "source": [
    "# Load tensorflow"
   ]
  },
  {
   "cell_type": "code",
   "execution_count": null,
   "metadata": {},
   "outputs": [],
   "source": [
    "import os\n",
    "import tensorflow as tf\n",
    "from tensorflow import keras\n",
    "import numpy as np\n",
    "np.set_printoptions(precision=3, suppress=True)\n",
    "\n",
    "from tensorflow import keras\n",
    "import numpy as np\n",
    "np.set_printoptions(precision=3, suppress=True)\n",
    "\n",
    "from matplotlib import pyplot as plt\n",
    "import seaborn as sns\n",
    "pal = sns.color_palette(\"colorblind\")\n",
    "os.environ['CUDA_VISIBLE_DEVICES'] = '2'\n",
    "\n",
    "gpus = tf.config.list_physical_devices('GPU')\n",
    "if gpus:\n",
    "    try:\n",
    "        # Currently, memory growth needs to be the same across GPUs\n",
    "        for gpu in gpus:\n",
    "            tf.config.experimental.set_memory_growth(gpu, True)\n",
    "        logical_gpus = tf.config.list_logical_devices('GPU')\n",
    "        print(len(gpus), \"Physical GPUs,\", len(logical_gpus), \"Logical GPUs\")\n",
    "    except RuntimeError as e:\n",
    "        # Memory growth must be set before GPUs have been initialized\n",
    "        print(e)\n",
    "\n",
    "os.environ['TF_XLA_FLAGS'] = '--tf_xla_enable_xla_devices'"
   ]
  },
  {
   "cell_type": "markdown",
   "metadata": {},
   "source": [
    "# Define the condition normalization"
   ]
  },
  {
   "cell_type": "code",
   "execution_count": null,
   "metadata": {},
   "outputs": [],
   "source": [
    "latent_dim = 112\n",
    "N = 896\n",
    "n_index = 1.78\n",
    "cherenkov_angle = np.arccos(1. / n_index)\n",
    "\n",
    "def norm_cond(condition, cherenkov_angle):\n",
    "    condition_norm = condition.copy()\n",
    "    condition_norm[:, 0] = (np.log10(condition_norm[:, 0]) - 15)/(19 - 15)\n",
    "    #condition_norm[:, 1] = ((condition_norm[:, 1] - cherenkov_angle) / units.deg + 2.5)/ 5\n",
    "    condition_norm[:, 1] = ((condition_norm[:, 1] - cherenkov_angle) / units.deg + 5)/ 10\n",
    "    return condition_norm"
   ]
  },
  {
   "cell_type": "markdown",
   "metadata": {},
   "source": [
    "# Load generator and critic models"
   ]
  },
  {
   "cell_type": "code",
   "execution_count": null,
   "metadata": {},
   "outputs": [],
   "source": [
    "name = 'run4-lr=5e-05-critic_filters=24-generator_filters=48-generator_k_size=15'\n",
    "g_model = keras.models.load_model(f'/mnt/md0/aholmberg/GAN_models/transconv-incept-m14-10deg-05split-fixed/gen_{name}/', compile=False)\n",
    "g_model.compile()\n",
    "c_model = keras.models.load_model(f'/mnt/md0/aholmberg/GAN_models/transconv-incept-m14-10deg-05split-fixed/crit_{name}/', compile=False)\n",
    "c_model.compile()"
   ]
  },
  {
   "cell_type": "markdown",
   "metadata": {},
   "source": [
    "# Define some condition to use for sigals"
   ]
  },
  {
   "cell_type": "code",
   "execution_count": null,
   "metadata": {},
   "outputs": [],
   "source": [
    "\"\"\" condition = np.array([[1e19, cherenkov_angle+5*units.deg],\n",
    "                      [1e19, cherenkov_angle-5*units.deg],\n",
    "                      [1e18, cherenkov_angle+5*units.deg],\n",
    "                      [1e18, cherenkov_angle-5*units.deg],\n",
    "                      [1e17, cherenkov_angle+5*units.deg],\n",
    "                      [1e17, cherenkov_angle-5*units.deg],\n",
    "                      [1e16, cherenkov_angle+5*units.deg],\n",
    "                      [1e16, cherenkov_angle-5*units.deg],\n",
    "                      [1e15, cherenkov_angle+5*units.deg],\n",
    "                      [1e15, cherenkov_angle-5*units.deg]])\n",
    " \"\"\"\n",
    "condition = np.array([[1e19, cherenkov_angle],\n",
    "                      [1e19, cherenkov_angle-1*units.deg],\n",
    "                      [1e19, cherenkov_angle+1*units.deg],\n",
    "                      [1e19, cherenkov_angle-2*units.deg],\n",
    "                      [1e19, cherenkov_angle+2*units.deg],\n",
    "                      [1e19, cherenkov_angle-3*units.deg],\n",
    "                      [1e19, cherenkov_angle+3*units.deg],\n",
    "                      [1e19, cherenkov_angle-4*units.deg],\n",
    "                      [1e19, cherenkov_angle+4*units.deg],\n",
    "                      [1e19, cherenkov_angle-5*units.deg],\n",
    "                      [1e19, cherenkov_angle+5*units.deg]])\n",
    "\n",
    "condition_expanded = np.repeat(condition, 10, axis=0)\n",
    "cond_norm = norm_cond(condition_expanded, cherenkov_angle)"
   ]
  },
  {
   "cell_type": "markdown",
   "metadata": {},
   "source": [
    "# Compute true traces"
   ]
  },
  {
   "cell_type": "code",
   "execution_count": null,
   "metadata": {},
   "outputs": [],
   "source": [
    "true_traces = np.zeros((cond_norm.shape[0], N))\n",
    "for ind in range(cond_norm.shape[0]):\n",
    "    theta = condition_expanded[ind, 1]\n",
    "    energy = condition_expanded[ind, 0] * units.eV\n",
    "    trace = ask.get_time_trace(energy=energy,\n",
    "                                theta=theta,\n",
    "                                N=N,\n",
    "                                dt=dt,\n",
    "                                shower_type=\"had\",\n",
    "                                n_index=1.78,\n",
    "                                R=1*units.km,\n",
    "                                model=\"ARZ2020\",\n",
    "                                iN=ind%10)\n",
    "\n",
    "    trace_spectrum = fft.time2freq(trace, sampling_rate=sr)\n",
    "    freqs = np.abs(trace_spectrum)\n",
    "    i = 0\n",
    "    while  i+2 < freqs.shape[0] and (not (freqs[i] > freqs[i+1] < freqs[i+2])):\n",
    "        i = i + 1\n",
    "\n",
    "    mask = ff < ff[i]\n",
    "    trace_spectrum_filtered = np.zeros((trace_spectrum.shape), dtype=complex)\n",
    "    trace_spectrum_filtered[mask] = trace_spectrum[mask]\n",
    "    trace_filtered = fft.freq2time(trace_spectrum_filtered, sampling_rate=sr)\n",
    "    true_traces[ind, :] = trace_filtered"
   ]
  },
  {
   "cell_type": "markdown",
   "metadata": {},
   "source": [
    "# Generate and scale fake traces"
   ]
  },
  {
   "cell_type": "code",
   "execution_count": null,
   "metadata": {},
   "outputs": [],
   "source": [
    "latent_vec = tf.random.normal((true_traces.shape[0], latent_dim))\n",
    "gen_traces = g_model([latent_vec, cond_norm], training=False)"
   ]
  },
  {
   "cell_type": "code",
   "execution_count": null,
   "metadata": {},
   "outputs": [],
   "source": [
    "#gen_traces_scaled = gen_traces / (np.expand_dims(1e19/condition_expanded[:, 0], axis=-1) * np.expand_dims(((condition_expanded[:, 1]/units.deg - cherenkov_angle/units.deg))**4, axis=-1))\n",
    "gen_traces_scaled = gen_traces / (np.expand_dims(1e19/condition_expanded[:, 0], axis=-1) * (np.expand_dims(((condition_expanded[:, 1]/units.deg - cherenkov_angle/units.deg))**4, axis=-1) + 1)/6) *1000\n",
    "gen_traces_scaled = gen_traces_scaled.numpy()"
   ]
  },
  {
   "cell_type": "markdown",
   "metadata": {},
   "source": [
    "# Plot example signals with true bounds"
   ]
  },
  {
   "cell_type": "code",
   "execution_count": null,
   "metadata": {},
   "outputs": [],
   "source": [
    "ind = 9\n",
    "\n",
    "mean_true_trace = np.zeros((11, 896))\n",
    "for i in range(11):\n",
    "    mean_true_trace[i, :] = np.mean(true_traces[i*10:(i+1)*10, :]/units.millivolt, axis=0)\n",
    "\n",
    "p2p = np.max(true_traces, axis=-1) - np.min(true_traces, axis=-1)\n",
    "\n",
    "max_trace = np.zeros((11, 896))\n",
    "min_trace = np.zeros((11, 896))\n",
    "for i in range(11):  # find the signals with highest/lowest peak to peak amplitude\n",
    "    tmp = p2p[i*10:(i+1)*10].tolist()\n",
    "    tmp, index = (list(t) for t in zip(*sorted(zip(tmp, range(10)))))\n",
    "    min_trace[i, :] = true_traces[i*10 + index[0], :]\n",
    "    max_trace[i, :] = true_traces[i*10 + index[-1], :]\n",
    "\n",
    "\n",
    "time = np.arange(0, N)*dt / units.nanosecond\n",
    "if ind == 0:\n",
    "    wind = np.arange(430,470)\n",
    "elif ind == 3:\n",
    "    wind = np.arange(380,520)\n",
    "else:\n",
    "    wind = np.arange(300,600)\n",
    "\n",
    "theta = r'$\\theta$'\n",
    "pm = r'$\\pm$'\n",
    "fig, ax = plt.subplots(1,1, figsize=(8,5))\n",
    "if ind == 0:\n",
    "    ax.fill_between(time[wind], max_trace[ind, wind]/units.millivolt, min_trace[ind, wind]/units.millivolt, facecolor=pal[0], label=f'true signals')\n",
    "    for n in range(0,4):\n",
    "        ax.plot(time[wind], gen_traces_scaled[ind*10 + n, wind], color=pal[7], linewidth=1)\n",
    "\n",
    "    ax.plot(time[wind], gen_traces_scaled[ind*10+9, wind], color=pal[7], linewidth=1, label=f'generated signals')\n",
    "    name = f'sig_E={int(condition[ind, 0]/units.PeV)}PeV_theta={int(condition[ind, 1]/units.deg - cherenkov_angle/units.deg )}deg.pdf'\n",
    "else:\n",
    "    ax.fill_between(time[wind], max_trace[ind, wind]/units.millivolt, min_trace[ind, wind]/units.millivolt, facecolor=pal[0], label=f'true signals -{theta}')\n",
    "    ax.fill_between(time[wind], max_trace[ind+1, wind]/units.millivolt, min_trace[ind+1, wind]/units.millivolt, facecolor=pal[3], label=f'true signals  {theta}')\n",
    "\n",
    "    for n in range(0,4):\n",
    "        ax.plot(time[wind], gen_traces_scaled[ind*10 + n, wind], color=pal[7], linewidth=1)\n",
    "        ax.plot(time[wind], gen_traces_scaled[(ind+1)*10 + n, wind], color=pal[7], linewidth=1)\n",
    "\n",
    "    ax.plot(time[wind], gen_traces_scaled[ind*10+9, wind], color=pal[7], linewidth=1, label=f'generated signals {pm}{theta}')\n",
    "    ax.plot(time[wind], gen_traces_scaled[(ind+1)*10+9, wind], color=pal[7], linewidth=1)\n",
    "    name = f'sig_E={int(condition[ind, 0]/units.PeV)}PeV_theta={int(condition[ind+1, 1]/units.deg - cherenkov_angle/units.deg )}deg.pdf'\n",
    "\n",
    "ax.set_xlabel('Time [ns]')\n",
    "ax.set_ylabel('Amplitude [mV/m]')\n",
    "ax.yaxis.set_minor_locator(  AutoMinorLocator(5))\n",
    "ax.xaxis.set_minor_locator(  AutoMinorLocator(5))\n",
    "ax.legend(frameon=False)\n",
    "\n",
    "#fig.savefig(f'thesis/Exjobb-rapport/figures/signals/{name}')\n",
    "print(name)"
   ]
  },
  {
   "cell_type": "markdown",
   "metadata": {},
   "source": [
    "# Another way of ploting some example signals"
   ]
  },
  {
   "cell_type": "code",
   "execution_count": null,
   "metadata": {},
   "outputs": [],
   "source": [
    "i = 3\n",
    "fig, ax = plt.subplots(1,1, figsize=(6,5))\n",
    "mean_true_trace = np.mean(true_traces[i*10:i*10+10, :], axis=0)\n",
    "time = np.arange(0, N)*dt / units.nanosecond\n",
    "ax.plot(time, mean_true_trace, 'k', label='mean true signal')\n",
    "ax.plot(time, gen_traces_scaled[i*10, :], '--', label='generated signal 1')\n",
    "ax.plot(time, gen_traces_scaled[i*10+1, :], '--', label='generated signal 2')\n",
    "ax.plot(time, gen_traces_scaled[i*10+2, :], '--', label='generated signal 3')\n",
    "ax.set_xlabel('Time [ns]')\n",
    "ax.set_ylabel('Amplitude [V/m]')\n",
    "fig.tight_layout()\n",
    "ax.legend()\n",
    "\n",
    "print(f'Energy: {condition[i, 0]/units.EeV} [EeV], viewing angle: {condition[i, 1]/units.deg:.2f} [$\\circ$]')"
   ]
  },
  {
   "cell_type": "code",
   "execution_count": null,
   "metadata": {},
   "outputs": [],
   "source": []
  }
 ],
 "metadata": {
  "interpreter": {
   "hash": "8431b5f48b3450d7e01e7bddb77d6d041c9df4b36b0dd110671962478981bb01"
  },
  "kernelspec": {
   "display_name": "Python 3.9.12 ('tf2.4')",
   "language": "python",
   "name": "python3"
  },
  "language_info": {
   "codemirror_mode": {
    "name": "ipython",
    "version": 3
   },
   "file_extension": ".py",
   "mimetype": "text/x-python",
   "name": "python",
   "nbconvert_exporter": "python",
   "pygments_lexer": "ipython3",
   "version": "3.9.12"
  },
  "orig_nbformat": 4
 },
 "nbformat": 4,
 "nbformat_minor": 2
}
