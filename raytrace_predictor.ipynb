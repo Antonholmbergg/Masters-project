{
 "cells": [
  {
   "cell_type": "code",
   "execution_count": null,
   "metadata": {},
   "outputs": [],
   "source": [
    "import os\n",
    "from gpuutils import GpuUtils\n",
    "GpuUtils.allocate(gpu_count=1, framework='keras')\n",
    "\n",
    "import tensorflow as tf\n",
    "physical_devices = tf.config.list_physical_devices('GPU')\n",
    "for device in physical_devices:\n",
    "    tf.config.experimental.set_memory_growth(device, True) \n",
    "\n",
    "import pandas as pd\n",
    "from tensorflow import keras\n",
    "from tensorflow.keras import layers\n",
    "import numpy as np\n",
    "np.set_printoptions(precision=3, suppress=True)\n",
    "from sklearn.preprocessing import MinMaxScaler\n"
   ]
  },
  {
   "cell_type": "code",
   "execution_count": null,
   "metadata": {},
   "outputs": [],
   "source": [
    "df = pd.read_csv('/mnt/md0/aholmberg/data/raytrace_samples_angle.csv')\n",
    "\n",
    "#df['launch_angle'] = np.arctan2(df['launch_vec_r'].to_numpy(), df['launch_vec_z'].to_numpy())\n",
    "#df['recieve_angle'] = np.arctan2(df['recieve_vec_r'].to_numpy(), df['recieve_vec_z'].to_numpy())\n",
    "#df.to_csv('/mnt/md0/aholmberg/data/raytrace_samples_angle.csv', index=False)\n",
    "df.head()"
   ]
  },
  {
   "cell_type": "code",
   "execution_count": null,
   "metadata": {},
   "outputs": [],
   "source": [
    "sc_pos_r = df['source_pos_r'].to_numpy().astype(np.float32)\n",
    "sc_pos_z = df['source_pos_z'].to_numpy().astype(np.float32)\n",
    "ant_pos_z = df['antenna_pos_z'].to_numpy().astype(np.float32)\n",
    "features = np.stack((sc_pos_r, sc_pos_z, ant_pos_z), axis=1)\n",
    "\n",
    "path_length = df['path_length'].to_numpy().astype(np.float32)\n",
    "travel_time = df['travel_time'].to_numpy().astype(np.float32)\n",
    "\n",
    "#launch_vec_r = df['launch_vec_r'].to_numpy().astype(np.float32)\n",
    "#launch_vec_z = df['launch_vec_z'].to_numpy().astype(np.float32)\n",
    "#launch = np.stack((launch_vec_r, launch_vec_z), axis=1)\n",
    "\n",
    "#recieve_vec_r = df['recieve_vec_r'].to_numpy().astype(np.float32)\n",
    "#recieve_vec_z = df['recieve_vec_z'].to_numpy().astype(np.float32)\n",
    "#recieve = np.stack((recieve_vec_r, recieve_vec_z), axis=1)\n",
    "\n",
    "launch = df['launch_angle'].to_numpy().astype(np.float32)\n",
    "recieve = df['recieve_angle'].to_numpy().astype(np.float32)\n",
    "\n",
    "typ = df['type'].to_numpy()\n",
    "print(launch.shape, recieve.shape, travel_time.shape, path_length.shape)"
   ]
  },
  {
   "cell_type": "code",
   "execution_count": null,
   "metadata": {},
   "outputs": [],
   "source": [
    "features  = features[0::2,:]\n",
    "features_train = features[:int(features.shape[0]*0.8)]\n",
    "features_test = features[int(features.shape[0]*0.8):]\n",
    "\n",
    "temp1 = travel_time[0::2]\n",
    "temp2 = travel_time[1::2]\n",
    "out_time = np.stack((temp1, temp2), axis=1)\n",
    "out_time_train = out_time[:int(out_time.shape[0]*0.8),:]\n",
    "out_time_test = out_time[int(out_time.shape[0]*0.8):,:]\n",
    "\n",
    "\n",
    "temp1 = path_length[0::2]\n",
    "temp2 = path_length[1::2]\n",
    "out_length = np.stack((temp1, temp2), axis=1)\n",
    "out_length_train = out_length[:int(out_length.shape[0]*0.8),:]\n",
    "out_length_test = out_length[int(out_length.shape[0]*0.8):,:]\n",
    "\n",
    "temp1 = launch[0::2]\n",
    "temp2 = launch[1::2]\n",
    "out_launch = np.stack((temp1, temp2), axis=1)\n",
    "out_launch_train = out_launch[:int(out_launch.shape[0]*0.8),:]\n",
    "out_launch_test = out_launch[int(out_launch.shape[0]*0.8):,:]\n",
    "\n",
    "temp1 = recieve[0::2]\n",
    "temp2 = recieve[1::2]\n",
    "out_recieve = np.stack((temp1, temp2), axis=1)\n",
    "out_recieve_train = out_recieve[:int(out_recieve.shape[0]*0.8),:]\n",
    "out_recieve_test = out_recieve[int(out_recieve.shape[0]*0.8):,:]\n",
    "\n",
    "\"\"\"\n",
    "out1_train = out1[:int(out1.shape[0]*0.8)]\n",
    "out1_test = out1[int(out1.shape[0]*0.8):]\n",
    "\n",
    "out2_train = out2[:int(out2.shape[0]*0.8)]\n",
    "out2_test = out2[int(out2.shape[0]*0.8):]\n",
    "\"\"\"\n",
    "print(out_time.shape, out_length.shape, out_launch.shape, out_recieve.shape)"
   ]
  },
  {
   "cell_type": "code",
   "execution_count": null,
   "metadata": {},
   "outputs": [],
   "source": [
    "temp1 = typ[0::2]\n",
    "temp2 = typ[1::2]\n",
    "print(temp1, temp2, typ)\n",
    "print(temp1.shape, temp2.shape, typ.shape)\n",
    "unique, counts = np.unique(temp1, return_counts=True)\n",
    "a = dict(zip(unique, counts))\n",
    "unique, counts = np.unique(temp2, return_counts=True)\n",
    "b = dict(zip(unique, counts))\n",
    "print(a, b)"
   ]
  },
  {
   "cell_type": "code",
   "execution_count": null,
   "metadata": {},
   "outputs": [],
   "source": [
    "unique, counts = np.unique(features_train[:,0], return_counts=True)\n",
    "#c = dict(zip(unique, counts))\n",
    "print(max(counts))"
   ]
  },
  {
   "cell_type": "code",
   "execution_count": null,
   "metadata": {},
   "outputs": [],
   "source": [
    "scaler_features = MinMaxScaler(feature_range=(0,1))\n",
    "scaler_features.fit(features_train)\n",
    "norm_features_train = scaler_features.transform(features_train)\n",
    "norm_features_test = scaler_features.transform(features_test)\n",
    "\n",
    "scaler_time = MinMaxScaler(feature_range=(0,1))\n",
    "scaler_time.fit(out_time_train)\n",
    "norm_time_train = scaler_time.transform(out_time_train)\n",
    "norm_time_test = scaler_time.transform(out_time_test)\n",
    "\n",
    "scaler_length = MinMaxScaler(feature_range=(0,1))\n",
    "scaler_length.fit(out_length_train)\n",
    "norm_length_train = scaler_length.transform(out_length_train)\n",
    "norm_length_test = scaler_length.transform(out_length_test)\n",
    "\n",
    "scaler_launch = MinMaxScaler(feature_range=(0,1))\n",
    "scaler_launch.fit(out_launch_train)\n",
    "norm_launch_train = scaler_launch.transform(out_launch_train)\n",
    "norm_launch_test = scaler_launch.transform(out_launch_test)\n",
    "\n",
    "scaler_recieve = MinMaxScaler(feature_range=(0,1))\n",
    "scaler_recieve.fit(out_recieve_train)\n",
    "norm_recieve_train = scaler_recieve.transform(out_recieve_train)\n",
    "norm_recieve_test = scaler_recieve.transform(out_recieve_test)\n",
    "\n",
    "#normalize = layers.Normalization()\n",
    "#normalize.adapt(features_train)"
   ]
  },
  {
   "cell_type": "code",
   "execution_count": null,
   "metadata": {},
   "outputs": [],
   "source": [
    "\"\"\"\n",
    "inputs = keras.Input(shape=(3, ))\n",
    "#x = normalize(inputs)\n",
    "x = layers.Dense(32, activation='relu')(inputs)\n",
    "x = layers.Dense(64, activation='relu')(x)\n",
    "x = layers.Dense(128, activation='relu')(x)\n",
    "x1 = layers.Dense(64, activation='relu')(x)\n",
    "x2 = layers.Dense(64, activation='relu')(x)\n",
    "x3 = layers.Dense(64, activation='relu')(x)\n",
    "x4 = layers.Dense(64, activation='relu')(x)\n",
    "x1 = layers.Dense(32, activation='relu')(x1)\n",
    "x2 = layers.Dense(32, activation='relu')(x2)\n",
    "x3 = layers.Dense(32, activation='relu')(x3)\n",
    "x4 = layers.Dense(32, activation='relu')(x4)\n",
    "output_time = layers.Dense(2, activation='relu')(x1)\n",
    "output_length = layers.Dense(2, activation='relu')(x2)\n",
    "output_launch = layers.Dense(4, activation='relu')(x3)\n",
    "output_recieve = layers.Dense(4, activation='relu')(x4)\n",
    "\"\"\"\n"
   ]
  },
  {
   "cell_type": "code",
   "execution_count": null,
   "metadata": {},
   "outputs": [],
   "source": [
    "#model = keras.Model(inputs=inputs, outputs=[output_time, output_length, output_launch, output_recieve], name=\"full_model\")\n",
    "from raytrace_model_def import Fc_model\n",
    "activation = keras.layers.ReLU()\n",
    "layers = [128, 256, 512]\n",
    "model = Fc_model(layers, activation)"
   ]
  },
  {
   "cell_type": "code",
   "execution_count": null,
   "metadata": {},
   "outputs": [],
   "source": [
    "#keras.utils.plot_model(model, \"travel_time_model.png\")"
   ]
  },
  {
   "cell_type": "code",
   "execution_count": null,
   "metadata": {},
   "outputs": [],
   "source": [
    "model.build((1,3))\n",
    "print(model.summary())"
   ]
  },
  {
   "cell_type": "code",
   "execution_count": null,
   "metadata": {},
   "outputs": [],
   "source": [
    "model.compile(optimizer='adam', loss='mse')"
   ]
  },
  {
   "cell_type": "code",
   "execution_count": null,
   "metadata": {},
   "outputs": [],
   "source": [
    "y = np.concatenate((norm_time_train, norm_length_train, norm_launch_train, norm_recieve_train), axis=1)\n",
    "print(norm_features_train.shape)"
   ]
  },
  {
   "cell_type": "code",
   "execution_count": null,
   "metadata": {},
   "outputs": [],
   "source": [
    "#model.fit(norm_features_train, [norm_time_train, norm_length_train, norm_launch_train, norm_recieve_train], epochs=5)\n",
    "model.fit(norm_features_train, y, epochs=1)"
   ]
  },
  {
   "cell_type": "code",
   "execution_count": null,
   "metadata": {},
   "outputs": [],
   "source": []
  },
  {
   "cell_type": "code",
   "execution_count": null,
   "metadata": {},
   "outputs": [],
   "source": [
    "\"\"\"\n",
    "y_test = model(norm_features_test)\n",
    "y_time = y_test[0].numpy()\n",
    "y_length = y_test[1].numpy()\n",
    "y_launch = y_test[2].numpy()\n",
    "y_recieve = y_test[3].numpy()\n",
    "\"\"\"\n",
    "y_test = model(norm_features_test).numpy()\n",
    "print(y_test.shape)\n",
    "y_time = y_test[:,:2]\n",
    "y_length = y_test[:,2:4]\n",
    "y_launch = y_test[:,4:6]\n",
    "y_recieve = y_test[:,6:8]\n"
   ]
  },
  {
   "cell_type": "code",
   "execution_count": null,
   "metadata": {},
   "outputs": [],
   "source": [
    "import matplotlib.pyplot as plt\n",
    "print(y_time.shape, norm_time_test.shape)"
   ]
  },
  {
   "cell_type": "code",
   "execution_count": null,
   "metadata": {},
   "outputs": [],
   "source": [
    "plt.scatter(norm_time_test[:,0], y_time[:,0])\n",
    "plt.xlabel('Analytically calculated travel time (ns)', size=14)\n",
    "plt.ylabel('Network prediction (ns)', size=14)\n",
    "#plt.savefig('model_pred_1.svg')"
   ]
  },
  {
   "cell_type": "code",
   "execution_count": null,
   "metadata": {},
   "outputs": [],
   "source": [
    "plt.scatter(norm_time_test[:,1], y_time[:,1])\n",
    "plt.xlabel('Analytically calculated travel time (ns)', size=14)\n",
    "plt.ylabel('Network prediction (ns)', size=14)\n",
    "#plt.savefig('model_pred_2.svg')"
   ]
  },
  {
   "cell_type": "code",
   "execution_count": null,
   "metadata": {},
   "outputs": [],
   "source": [
    "y_time_inv = scaler_time.inverse_transform(y_time)\n",
    "diff_time = out_time_test - y_time_inv\n",
    "print(f'Mean of difference true-pred {np.mean(diff_time[:,0]):.4f} Std {np.std(diff_time[:,0]):.4f}')\n",
    "print(f'Mean of difference true-pred {np.mean(diff_time[:,1]):.4f} Std {np.std(diff_time[:,1]):.4f}')"
   ]
  },
  {
   "cell_type": "code",
   "execution_count": null,
   "metadata": {},
   "outputs": [],
   "source": [
    "y_length_inv = scaler_length.inverse_transform(y_length)\n",
    "diff_length = out_length_test - y_length_inv\n",
    "print(f'Mean of difference true-pred {np.mean(diff_length[:,0]):.4f} Std {np.std(diff_length[:,0]):.4f}')\n",
    "print(f'Mean of difference true-pred {np.mean(diff_length[:,1]):.4f} Std {np.std(diff_length[:,1]):.4f}')"
   ]
  },
  {
   "cell_type": "code",
   "execution_count": null,
   "metadata": {},
   "outputs": [],
   "source": [
    "y_launch_inv = scaler_launch.inverse_transform(y_launch)\n",
    "diff_launch = out_launch_test - y_launch_inv\n",
    "print(f'Mean of difference true-pred {np.mean(diff_launch[:,0]):.4f} Std {np.std(diff_launch[:,0]):.4f}')\n",
    "print(f'Mean of difference true-pred {np.mean(diff_launch[:,1]):.4f} Std {np.std(diff_launch[:,1]):.4f}')"
   ]
  },
  {
   "cell_type": "code",
   "execution_count": null,
   "metadata": {},
   "outputs": [],
   "source": [
    "y_recieve_inv = scaler_recieve.inverse_transform(y_recieve)\n",
    "diff_recieve = out_recieve_test - y_recieve_inv\n",
    "print(f'Mean of difference true-pred {np.mean(diff_recieve[:,0]):.4f} Std {np.std(diff_recieve[:,0]):.4f}')\n",
    "print(f'Mean of difference true-pred {np.mean(diff_recieve[:,1]):.4f} Std {np.std(diff_recieve[:,1]):.4f}')"
   ]
  },
  {
   "cell_type": "code",
   "execution_count": null,
   "metadata": {},
   "outputs": [],
   "source": [
    "print(y_length_inv)"
   ]
  },
  {
   "cell_type": "code",
   "execution_count": null,
   "metadata": {},
   "outputs": [],
   "source": [
    "#from radiotools import plthelpers as php\n",
    "#fix, ax = php.get_histogram(diff[:,1], bins=50)\n",
    "#plt.show()\n",
    "print(norm_time_train)"
   ]
  },
  {
   "cell_type": "code",
   "execution_count": null,
   "metadata": {},
   "outputs": [],
   "source": []
  }
 ],
 "metadata": {
  "interpreter": {
   "hash": "31f2aee4e71d21fbe5cf8b01ff0e069b9275f58929596ceb00d14d90e3e16cd6"
  },
  "kernelspec": {
   "display_name": "Python 3.8.10 64-bit",
   "language": "python",
   "name": "python3"
  },
  "language_info": {
   "codemirror_mode": {
    "name": "ipython",
    "version": 3
   },
   "file_extension": ".py",
   "mimetype": "text/x-python",
   "name": "python",
   "nbconvert_exporter": "python",
   "pygments_lexer": "ipython3",
   "version": "3.8.5"
  },
  "orig_nbformat": 4
 },
 "nbformat": 4,
 "nbformat_minor": 2
}
