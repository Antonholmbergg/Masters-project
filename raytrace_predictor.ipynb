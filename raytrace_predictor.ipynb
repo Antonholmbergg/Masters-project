{
 "cells": [
  {
   "cell_type": "code",
   "execution_count": null,
   "metadata": {},
   "outputs": [],
   "source": [
    "import os\n",
    "from gpuutils import GpuUtils\n",
    "GpuUtils.allocate(gpu_count=1, framework='keras')\n",
    "\n",
    "import tensorflow as tf\n",
    "physical_devices = tf.config.list_physical_devices('GPU')\n",
    "for device in physical_devices:\n",
    "    tf.config.experimental.set_memory_growth(device, True) \n",
    "\n",
    "import pandas as pd\n",
    "from tensorflow import keras\n",
    "from tensorflow.keras import layers\n",
    "import numpy as np\n",
    "np.set_printoptions(precision=3, suppress=True)\n",
    "from sklearn.preprocessing import MinMaxScaler\n",
    "\n",
    "#tf.random.set_seed(\n",
    "#    42\n",
    "#)\n"
   ]
  },
  {
   "cell_type": "code",
   "execution_count": null,
   "metadata": {},
   "outputs": [],
   "source": [
    "df_test = pd.read_csv('/mnt/md0/aholmberg/data/raytrace_samples_random.csv')\n",
    "df = pd.read_csv('/mnt/md0/aholmberg/data/raytrace_samples_sobol_21.csv')\n",
    "#df['launch_angle'] = np.arctan2(df['launch_vec_r'].to_numpy(), df['launch_vec_z'].to_numpy())\n",
    "#df['recieve_angle'] = np.arctan2(df['recieve_vec_r'].to_numpy(), df['recieve_vec_z'].to_numpy())\n",
    "#df.to_csv('/mnt/md0/aholmberg/data/raytrace_samples_angle.csv', index=False)"
   ]
  },
  {
   "cell_type": "code",
   "execution_count": null,
   "metadata": {},
   "outputs": [],
   "source": [
    "sc_pos_r = df['source_pos_r'].to_numpy().astype(np.float32)\n",
    "sc_pos_z = df['source_pos_z'].to_numpy().astype(np.float32)\n",
    "ant_pos_z = df['antenna_pos_z'].to_numpy().astype(np.float32)\n",
    "x = np.stack((sc_pos_r, sc_pos_z, ant_pos_z), axis=1)\n",
    "\n",
    "sc_pos_r = df_test['source_pos_r'].to_numpy().astype(np.float32)\n",
    "sc_pos_z = df_test['source_pos_z'].to_numpy().astype(np.float32)\n",
    "ant_pos_z = df_test['antenna_pos_z'].to_numpy().astype(np.float32)\n",
    "x_test = np.stack((sc_pos_r, sc_pos_z, ant_pos_z), axis=1)\n",
    "\n",
    "travel_time = df['travel_time'].to_numpy().astype(np.float32)\n",
    "path_length = df['path_length'].to_numpy().astype(np.float32)\n",
    "launch = df['launch_angle'].to_numpy().astype(np.float32)\n",
    "recieve = df['recieve_angle'].to_numpy().astype(np.float32)\n",
    "y = np.stack((travel_time, path_length, launch, recieve), axis=1)\n",
    "\n",
    "travel_time = df_test['travel_time'].to_numpy().astype(np.float32)\n",
    "path_length = df_test['path_length'].to_numpy().astype(np.float32)\n",
    "launch = df_test['launch_angle'].to_numpy().astype(np.float32)\n",
    "recieve = df_test['recieve_angle'].to_numpy().astype(np.float32)\n",
    "y_test = np.stack((travel_time, path_length, launch, recieve), axis=1)\n",
    "\n",
    "\n",
    "unique, index, count = np.unique(x, return_counts=True, return_index=True, axis=0)\n",
    "print(unique, index, count)\n",
    "print(np.unique(count, return_counts=True))\n",
    "x[index[count == 1], :]\n",
    "x_new = np.delete(x, index[count == 1], axis=0)\n",
    "y_new = np.delete(y, index[count == 1], axis=0)\n",
    "unique, index, count = np.unique(x_new, return_counts=True, return_index=True, axis=0)\n",
    "print(unique, index, count)\n",
    "print(np.unique(count, return_counts=True))\n",
    "\n",
    "unique, index, count = np.unique(x_test, return_counts=True, return_index=True, axis=0)\n",
    "print(unique, index, count)\n",
    "print(np.unique(count, return_counts=True))\n",
    "x_test[index[count == 1], :]\n",
    "x_new_test = np.delete(x_test, index[count == 1], axis=0)\n",
    "y_new_test = np.delete(y_test, index[count == 1], axis=0)\n",
    "unique, index, count = np.unique(x_new_test, return_counts=True, return_index=True, axis=0)\n",
    "print(unique, index, count)\n",
    "print(np.unique(count, return_counts=True))\n"
   ]
  },
  {
   "cell_type": "code",
   "execution_count": null,
   "metadata": {},
   "outputs": [],
   "source": [
    "#x_new  = x_new_1[0::2,:]\n",
    "#x_train = x_new[:int(x_new.shape[0]*0.9)]\n",
    "#x_test = x_new[int(x_new.shape[0]*0.9):]\n",
    "x_train = x_new[0::2,:]\n",
    "x_test = x_new_test[0::2,:]\n",
    "\n",
    "#y_temp1  = y_new_1[0::2,:]\n",
    "#y_temp2  = y_new_1[1::2,:]\n",
    "#y_new = np.zeros((y_temp1.shape[0], 8))\n",
    "\n",
    "y_temp1  = y_new[0::2,:]\n",
    "y_temp2  = y_new[1::2,:]\n",
    "y_temp1_test  = y_new_test[0::2,:]\n",
    "y_temp2_test  = y_new_test[1::2,:]\n",
    "y_new = np.zeros((y_temp1.shape[0], 8))\n",
    "y_new_test = np.zeros((y_temp1_test.shape[0], 8))\n",
    "\n",
    "\n",
    "for i in range(4):\n",
    "    y_new[:,2*i] = y_temp1[:,i]\n",
    "    y_new[:,2*i+1] = y_temp2[:,i]\n",
    "    y_new_test[:,2*i] = y_temp1_test[:,i]\n",
    "    y_new_test[:,2*i+1] = y_temp2_test[:,i]\n",
    "\n",
    "y_train = y_new\n",
    "y_test = y_new_test\n",
    "#y_train = y_new[:int(y_new.shape[0]*0.9)]\n",
    "#y_test = y_new[int(y_new.shape[0]*0.9):]\n",
    "\n",
    "scaler_x = MinMaxScaler(feature_range=(0,1))\n",
    "#scaler_x = StandardScaler()\n",
    "scaler_x.fit(x_train)\n",
    "norm_x_train = scaler_x.transform(x_train)\n",
    "norm_x_test = scaler_x.transform(x_test)\n",
    "\n",
    "scaler_y = MinMaxScaler(feature_range=(0,1))\n",
    "#scaler_y = StandardScaler()\n",
    "scaler_y.fit(y_train)\n",
    "norm_y_train = scaler_y.transform(y_train)\n",
    "norm_y_test = scaler_y.transform(y_test)\n",
    "\n"
   ]
  },
  {
   "cell_type": "code",
   "execution_count": null,
   "metadata": {},
   "outputs": [],
   "source": [
    "\"\"\"\n",
    "temp1 = typ[0::2]\n",
    "temp2 = typ[1::2]\n",
    "print(temp1, temp2, typ)\n",
    "print(temp1.shape, temp2.shape, typ.shape)\n",
    "unique, counts = np.unique(temp1, return_counts=True)\n",
    "a = dict(zip(unique, counts))\n",
    "unique, counts = np.unique(temp2, return_counts=True)\n",
    "b = dict(zip(unique, counts))\n",
    "print(a, b)\n",
    "unique, counts = np.unique(features_train[:,0], return_counts=True)\n",
    "#c = dict(zip(unique, counts))\n",
    "print(max(counts))\n",
    "\"\"\"\n",
    "pass"
   ]
  },
  {
   "cell_type": "code",
   "execution_count": null,
   "metadata": {},
   "outputs": [],
   "source": [
    "#model = keras.Model(inputs=inputs, outputs=[output_time, output_length, output_launch, output_recieve], name=\"full_model\")\n",
    "from raytrace_model_def import get_simple_model, get_multiple_output_model, get_no_skip_model, get_skip_model\n",
    "activation = 'relu'\n",
    "#depth = 4\n",
    "width = 64\n",
    "opt = keras.optimizers.Adam(learning_rate=1e-3)\n",
    "#model = get_simple_model(width, depth, activation, optimizer=opt)\n",
    "\n",
    "model = get_no_skip_model(width, activation=activation, loss='mae')\n",
    "\n",
    "#model = get_multiple_output_model(width, depth, activation=activation)"
   ]
  },
  {
   "cell_type": "code",
   "execution_count": null,
   "metadata": {},
   "outputs": [],
   "source": [
    "\n",
    "print(model.summary())"
   ]
  },
  {
   "cell_type": "code",
   "execution_count": null,
   "metadata": {},
   "outputs": [],
   "source": [
    "early_stoping = keras.callbacks.EarlyStopping(\n",
    "    monitor=\"val_loss\",\n",
    "    patience=5\n",
    ")\n",
    "\n",
    "def scheduler(epoch, lr):\n",
    "    if epoch <= 2:\n",
    "        return 1e-2\n",
    "    elif epoch <= 8:\n",
    "        return 1e-3\n",
    "    else:\n",
    "       return lr * tf.math.exp(-0.1)\n",
    "\n",
    "lr_scheduler = keras.callbacks.LearningRateScheduler(scheduler)"
   ]
  },
  {
   "cell_type": "code",
   "execution_count": null,
   "metadata": {},
   "outputs": [],
   "source": [
    "#model.fit(norm_features_train, [norm_time_train, norm_length_train, norm_launch_train, norm_recieve_train], epochs=5)\n",
    "model.fit(\n",
    "    norm_x_train[:,:],\n",
    "    norm_y_train[:,:],#[norm_y_train[:,:2], norm_y_train[:,2:4], norm_y_train[:,4:]],\n",
    "    epochs=20,\n",
    "    batch_size=128,\n",
    "    validation_split=0.1,  \n",
    "    callbacks=[lr_scheduler]\n",
    "    )"
   ]
  },
  {
   "cell_type": "code",
   "execution_count": null,
   "metadata": {},
   "outputs": [],
   "source": [
    "name = 'multi-out-bigger-skip-weight-v2-2'\n",
    "model_path = '/mnt/md0/aholmberg/models/' + name\n",
    "model = keras.models.load_model(model_path)\n",
    "print(model.summary())\n",
    "scaler_path_x = model_path + \"-x-scaler.pkl\"\n",
    "scaler_path_y = model_path + \"-y-scaler.pkl\"\n",
    "from pickle import load\n",
    "scaler_x = load(open(scaler_path_x, 'rb'))\n",
    "scaler_y = load(open(scaler_path_y, 'rb'))"
   ]
  },
  {
   "cell_type": "code",
   "execution_count": null,
   "metadata": {},
   "outputs": [],
   "source": [
    "sc_pos_r = df_test['source_pos_r'].to_numpy().astype(np.float32)\n",
    "sc_pos_z = df_test['source_pos_z'].to_numpy().astype(np.float32)\n",
    "ant_pos_z = df_test['antenna_pos_z'].to_numpy().astype(np.float32)\n",
    "x_test = np.stack((sc_pos_r, sc_pos_z, ant_pos_z), axis=1)\n",
    "\n",
    "travel_time = df_test['travel_time'].to_numpy().astype(np.float32)\n",
    "path_length = df_test['path_length'].to_numpy().astype(np.float32)\n",
    "launch = df_test['launch_angle'].to_numpy().astype(np.float32)\n",
    "recieve = df_test['recieve_angle'].to_numpy().astype(np.float32)\n",
    "y_test = np.stack((travel_time, path_length, launch, recieve), axis=1)\n",
    "\n",
    "\n",
    "unique, index, count = np.unique(x_test, return_counts=True, return_index=True, axis=0)\n",
    "print(unique, index, count)\n",
    "print(np.unique(count, return_counts=True))\n",
    "x_test[index[count == 1], :]\n",
    "x_new_test = np.delete(x_test, index[count == 1], axis=0)\n",
    "y_new_test = np.delete(y_test, index[count == 1], axis=0)\n",
    "unique, index, count = np.unique(x_new_test, return_counts=True, return_index=True, axis=0)\n",
    "print(unique, index, count)\n",
    "print(np.unique(count, return_counts=True))\n",
    "x_test = x_new_test[0::2,:]\n",
    "\n",
    "y_temp1_test  = y_new_test[0::2,:]\n",
    "y_temp2_test  = y_new_test[1::2,:]\n",
    "y_new_test = np.zeros((y_temp1_test.shape[0], 8))\n",
    "\n",
    "\n",
    "for i in range(4):\n",
    "    y_new_test[:,2*i] = y_temp1_test[:,i]\n",
    "    y_new_test[:,2*i+1] = y_temp2_test[:,i]\n",
    "\n",
    "\n",
    "y_test = y_new_test\n",
    "\n",
    "norm_x_test = scaler_x.transform(x_test)\n",
    "norm_y_test = scaler_y.transform(y_test)\n"
   ]
  },
  {
   "cell_type": "code",
   "execution_count": null,
   "metadata": {},
   "outputs": [],
   "source": [
    "\"\"\"\n",
    "y_test = model(norm_features_test)\n",
    "y_time = y_test[0].numpy()\n",
    "y_length = y_test[1].numpy()\n",
    "y_launch = y_test[2].numpy()\n",
    "y_recieve = y_test[3].numpy()\n",
    "\"\"\"\n",
    "temp1 = model(norm_x_test[:int(norm_x_test.shape[0]/2)])\n",
    "temp2 = model(norm_x_test[int(norm_x_test.shape[0]/2):])\n",
    "print(temp1[0].shape ,temp1[1].shape, temp1[2].shape,temp2[0].shape ,temp2[1].shape, temp2[2].shape)\n",
    "y_test_pred = np.zeros((norm_y_test.shape))\n",
    "#y_test_pred[:int(norm_x_test.shape[0]/2),:] = np.array(model(norm_x_test[:int(norm_x_test.shape[0]/2)]))#.numpy().flatten()\n",
    "#y_test_pred[int(norm_x_test.shape[0]/2):,:] = np.array(model(norm_x_test[int(norm_x_test.shape[0]/2):]))#.numpy().flatten()\n",
    "\n",
    "y_test_pred[:int(norm_x_test.shape[0]/2),:] = np.concatenate((temp1[0], temp1[1], temp1[2], temp1[3]), axis=1)\n",
    "y_test_pred[int(norm_x_test.shape[0]/2):,:] = np.concatenate((temp2[0], temp2[1], temp2[2], temp2[3]), axis=1)\n",
    "y_test_inv = scaler_y.inverse_transform(y_test_pred)\n",
    "\n",
    "print(y_test_pred.shape)\n",
    "y_time = y_test_pred[:,:2]\n",
    "y_length = y_test_pred[:,2:4]\n",
    "y_launch = y_test_pred[:,4:6]\n",
    "y_recieve = y_test_pred[:,6:8]\n"
   ]
  },
  {
   "cell_type": "code",
   "execution_count": null,
   "metadata": {},
   "outputs": [],
   "source": [
    "import matplotlib.pyplot as plt\n",
    "import seaborn as sns\n",
    "from radiotools import plthelpers as php\n"
   ]
  },
  {
   "cell_type": "code",
   "execution_count": null,
   "metadata": {},
   "outputs": [],
   "source": [
    "plt.rcParams.update({'font.size': 14})\n",
    "\n",
    "\n",
    "for sol in range (8):\n",
    "    data = pd.DataFrame({'x-val':y_test[:,sol] , 'y-val':y_test_inv[:,sol]- y_test[:,sol]})\n",
    "    g = sns.JointGrid(data=data,\n",
    "                    x=\"x-val\",\n",
    "                    y=\"y-val\")\n",
    "    \n",
    "    g.plot_joint(sns.scatterplot, s=100, alpha=.5)\n",
    "    g.plot_marginals(sns.histplot, kde=True)\n",
    "    if sol == 0 or sol == 1:\n",
    "        g.set_axis_labels(xlabel='True traveltime [ns]', ylabel='Error travel time [ns] ')\n",
    "    elif sol == 2 or sol == 3:\n",
    "        g.set_axis_labels(xlabel='True path length [m]', ylabel='Error path length [m] ')\n",
    "    elif sol == 4 or sol == 5:\n",
    "        g.set_axis_labels(xlabel='True launch angle [$^\\circ$]', ylabel='Error launch angle [$^\\circ$] ')\n",
    "    elif sol == 6 or sol == 7:\n",
    "        g.set_axis_labels(xlabel='True recieve angle [$^\\circ$]', ylabel='Error recieve angle [$^\\circ$] ')\n",
    "    g.savefig(f'/mnt/md0/aholmberg/plots/raytrace/jointgrid/sol_{sol}.png')"
   ]
  },
  {
   "cell_type": "code",
   "execution_count": null,
   "metadata": {},
   "outputs": [],
   "source": [
    "plt.scatter(norm_y_test[:,0], y_time[:,0]- norm_y_test[:,0])\n",
    "plt.xlabel('Analytically calculated travel time (ns)', size=14)\n",
    "plt.ylabel('Network prediction error (ns)', size=14)\n",
    "#plt.savefig('model_pred_1.svg')"
   ]
  },
  {
   "cell_type": "code",
   "execution_count": null,
   "metadata": {},
   "outputs": [],
   "source": [
    "plt.scatter(norm_y_test[:,0], y_test_pred[:,0])\n",
    "plt.xlabel('Analytically calculated travel time (ns)', size=14)\n",
    "plt.ylabel('Network prediction (ns)', size=14)\n",
    "#plt.savefig('model_pred_2.svg')"
   ]
  },
  {
   "cell_type": "code",
   "execution_count": null,
   "metadata": {},
   "outputs": [],
   "source": [
    "diff_deg = y_test - y_test_inv\n",
    "\n",
    "#diff = y_test - y_test_inv\n",
    "#diff_deg = np.copy(diff)\n",
    "#diff_deg[:,4:] = np.degrees(diff_deg[:, 4:])\n",
    "\n",
    "sol = ['time_sol_1:', \n",
    "       'time_sol_2:',\n",
    "       'length_sol_1:',\n",
    "       'length_sol_2:',\n",
    "       'launch_sol_1:',\n",
    "       'launch_sol_2:',\n",
    "       'recieve_sol_1:',\n",
    "       'recieve_sol_2:']\n",
    "\n",
    "for i in range(8):\n",
    "    #mean = np.mean(diff[:,i])\n",
    "    #std = np.std(diff[:,i])\n",
    "    mean = np.mean(diff_deg[:,i])\n",
    "    med = np.median(diff_deg[:,i])\n",
    "    std = np.std(diff_deg[:,i])\n",
    "    print(sol[i] + f' mean: {mean:.4f} median: {med:.4f}  std: {std:.4f}')"
   ]
  },
  {
   "cell_type": "code",
   "execution_count": null,
   "metadata": {},
   "outputs": [],
   "source": [
    "x_lab = ['travel time [ns]', 'path length [m]', 'launch angle $[^\\circ]$', 'recieve angle $[^\\circ]$']\n",
    "for i in range(8):\n",
    "    std = np.std(diff_deg[:,i])\n",
    "    bins = np.linspace(-3*std, 3*std, 100)\n",
    "    fix, ax = php.get_histogram(diff_deg[:,i], bins=bins)\n",
    "    x_label = 'Error in ' + x_lab[int(i/2)]\n",
    "    plt.xlabel(x_label)\n",
    "    plt.savefig(f'/mnt/md0/aholmberg/plots/raytrace/jointgrid/hist_sol_{i}.png')"
   ]
  },
  {
   "cell_type": "code",
   "execution_count": null,
   "metadata": {},
   "outputs": [],
   "source": [
    "np.percentile(diff_deg[:,0], [16, 84])"
   ]
  },
  {
   "cell_type": "code",
   "execution_count": null,
   "metadata": {},
   "outputs": [],
   "source": [
    "for i in range(3):\n",
    "    print('random: ', np.max(x_test[:,i]), 'sobol: ', np.max(x[:,i]))\n",
    "    print('random: ', np.min(x_test[:,i]), 'sobol: ', np.min(x[:,i]))"
   ]
  },
  {
   "cell_type": "code",
   "execution_count": null,
   "metadata": {},
   "outputs": [],
   "source": []
  },
  {
   "cell_type": "code",
   "execution_count": null,
   "metadata": {},
   "outputs": [],
   "source": []
  }
 ],
 "metadata": {
  "interpreter": {
   "hash": "31f2aee4e71d21fbe5cf8b01ff0e069b9275f58929596ceb00d14d90e3e16cd6"
  },
  "kernelspec": {
   "display_name": "Python 3.8.10 64-bit",
   "language": "python",
   "name": "python3"
  },
  "language_info": {
   "codemirror_mode": {
    "name": "ipython",
    "version": 3
   },
   "file_extension": ".py",
   "mimetype": "text/x-python",
   "name": "python",
   "nbconvert_exporter": "python",
   "pygments_lexer": "ipython3",
   "version": "3.8.5"
  },
  "orig_nbformat": 4
 },
 "nbformat": 4,
 "nbformat_minor": 2
}
