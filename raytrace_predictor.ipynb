{
 "cells": [
  {
   "cell_type": "code",
   "execution_count": 160,
   "metadata": {},
   "outputs": [
    {
     "name": "stdout",
     "output_type": "stream",
     "text": [
      "GPU 2  will be allocated\n"
     ]
    }
   ],
   "source": [
    "import os\n",
    "from gpuutils import GpuUtils\n",
    "GpuUtils.allocate(gpu_count=1, framework='keras')\n",
    "\n",
    "import tensorflow as tf\n",
    "physical_devices = tf.config.list_physical_devices('GPU')\n",
    "for device in physical_devices:\n",
    "    tf.config.experimental.set_memory_growth(device, True) \n",
    "\n",
    "import pandas as pd\n",
    "from tensorflow import keras\n",
    "from tensorflow.keras import layers\n",
    "import numpy as np\n",
    "np.set_printoptions(precision=3, suppress=True)\n",
    "from sklearn.preprocessing import MinMaxScaler\n"
   ]
  },
  {
   "cell_type": "code",
   "execution_count": 161,
   "metadata": {},
   "outputs": [],
   "source": [
    "#df = pd.read_csv('/mnt/md0/aholmberg/data/raytrace_samples_random.csv')\n",
    "df = pd.read_csv('/mnt/md0/aholmberg/data/raytrace_samples_angle.csv')\n",
    "#df['launch_angle'] = np.arctan2(df['launch_vec_r'].to_numpy(), df['launch_vec_z'].to_numpy())\n",
    "#df['recieve_angle'] = np.arctan2(df['recieve_vec_r'].to_numpy(), df['recieve_vec_z'].to_numpy())\n",
    "#df.to_csv('/mnt/md0/aholmberg/data/raytrace_samples_angle.csv', index=False)"
   ]
  },
  {
   "cell_type": "code",
   "execution_count": 162,
   "metadata": {},
   "outputs": [],
   "source": [
    "sc_pos_r = df['source_pos_r'].to_numpy().astype(np.float32)\n",
    "sc_pos_z = df['source_pos_z'].to_numpy().astype(np.float32)\n",
    "ant_pos_z = df['antenna_pos_z'].to_numpy().astype(np.float32)\n",
    "x = np.stack((sc_pos_r, sc_pos_z, ant_pos_z), axis=1)\n",
    "\n",
    "travel_time = df['travel_time'].to_numpy().astype(np.float32)\n",
    "path_length = df['path_length'].to_numpy().astype(np.float32)\n",
    "launch = df['launch_angle'].to_numpy().astype(np.float32)\n",
    "recieve = df['recieve_angle'].to_numpy().astype(np.float32)\n",
    "y = np.stack((travel_time, path_length, launch, recieve), axis=1)\n",
    "\n",
    "typ = df['type'].to_numpy()\n",
    "#print(launch.shape, recieve.shape, travel_time.shape, path_length.shape)\n",
    "unique, index, count = np.unique(x, return_counts=True, return_index=True, axis=0)\n",
    "#print(unique, index, count)\n",
    "#print(np.unique(count, return_counts=True))\n",
    "#x[index[count == 1], :]\n",
    "x_new = np.delete(x, index[count == 1], axis=0)\n",
    "y_new = np.delete(y, index[count == 1], axis=0)\n",
    "unique, index, count = np.unique(x_new, return_counts=True, return_index=True, axis=0)\n",
    "#print(unique, index, count)\n",
    "#print(np.unique(count, return_counts=True))\n"
   ]
  },
  {
   "cell_type": "code",
   "execution_count": 163,
   "metadata": {},
   "outputs": [],
   "source": [
    "x_new  = x_new[0::2,:]\n",
    "x_train = x_new[:int(x_new.shape[0]*0.8)]\n",
    "x_test = x_new[int(x_new.shape[0]*0.8):]\n",
    "\n",
    "y_temp1  = y_new[0::2,:]\n",
    "y_temp2  = y_new[1::2,:]\n",
    "y_new = np.zeros((y_temp1.shape[0], 8))\n",
    "\n",
    "for i in range(4):\n",
    "    y_new[:,2*i] = y_temp1[:,i]\n",
    "    y_new[:,2*i+1] = y_temp2[:,i]\n",
    "\n",
    "y_train = y_new[:int(y_new.shape[0]*0.8)]\n",
    "y_test = y_new[int(y_new.shape[0]*0.8):]\n",
    "\n",
    "scaler_x = MinMaxScaler(feature_range=(-1,1))\n",
    "scaler_x.fit(x_train)\n",
    "norm_x_train = scaler_x.transform(x_train)\n",
    "norm_x_test = scaler_x.transform(x_test)\n",
    "\n",
    "scaler_y = MinMaxScaler(feature_range=(-1,1))\n",
    "scaler_y.fit(y_train)\n",
    "norm_y_train = scaler_y.transform(y_train)\n",
    "norm_y_test = scaler_y.transform(y_test)\n",
    "\n"
   ]
  },
  {
   "cell_type": "code",
   "execution_count": 164,
   "metadata": {},
   "outputs": [],
   "source": [
    "\"\"\"\n",
    "temp1 = typ[0::2]\n",
    "temp2 = typ[1::2]\n",
    "print(temp1, temp2, typ)\n",
    "print(temp1.shape, temp2.shape, typ.shape)\n",
    "unique, counts = np.unique(temp1, return_counts=True)\n",
    "a = dict(zip(unique, counts))\n",
    "unique, counts = np.unique(temp2, return_counts=True)\n",
    "b = dict(zip(unique, counts))\n",
    "print(a, b)\n",
    "unique, counts = np.unique(features_train[:,0], return_counts=True)\n",
    "#c = dict(zip(unique, counts))\n",
    "print(max(counts))\n",
    "\"\"\"\n",
    "pass"
   ]
  },
  {
   "cell_type": "code",
   "execution_count": 165,
   "metadata": {},
   "outputs": [],
   "source": [
    "#model = keras.Model(inputs=inputs, outputs=[output_time, output_length, output_launch, output_recieve], name=\"full_model\")\n",
    "from raytrace_model_def import get_simple_model\n",
    "activation = 'tanh'\n",
    "depth = 3\n",
    "width = 512\n",
    "opt = keras.optimizers.Adam(learning_rate=1e-3)\n",
    "model = get_simple_model(width, depth, activation, optimizer=opt)"
   ]
  },
  {
   "cell_type": "code",
   "execution_count": 166,
   "metadata": {},
   "outputs": [
    {
     "name": "stdout",
     "output_type": "stream",
     "text": [
      "Model: \"model_10\"\n",
      "_________________________________________________________________\n",
      "Layer (type)                 Output Shape              Param #   \n",
      "=================================================================\n",
      "input_11 (InputLayer)        [(None, 3)]               0         \n",
      "_________________________________________________________________\n",
      "dense_39 (Dense)             (None, 512)               2048      \n",
      "_________________________________________________________________\n",
      "dense_40 (Dense)             (None, 512)               262656    \n",
      "_________________________________________________________________\n",
      "dense_41 (Dense)             (None, 512)               262656    \n",
      "_________________________________________________________________\n",
      "dense_42 (Dense)             (None, 8)                 4104      \n",
      "=================================================================\n",
      "Total params: 531,464\n",
      "Trainable params: 531,464\n",
      "Non-trainable params: 0\n",
      "_________________________________________________________________\n",
      "None\n"
     ]
    }
   ],
   "source": [
    "\n",
    "print(model.summary())"
   ]
  },
  {
   "cell_type": "code",
   "execution_count": 167,
   "metadata": {},
   "outputs": [],
   "source": [
    "early_stoping = keras.callbacks.EarlyStopping(\n",
    "    monitor=\"val_loss\",\n",
    "    patience=5\n",
    ")"
   ]
  },
  {
   "cell_type": "code",
   "execution_count": 168,
   "metadata": {},
   "outputs": [
    {
     "name": "stdout",
     "output_type": "stream",
     "text": [
      "Epoch 1/50\n",
      "1206/1206 [==============================] - 10s 9ms/step - loss: 0.0051 - val_loss: 0.0018\n",
      "Epoch 2/50\n",
      "1206/1206 [==============================] - 9s 8ms/step - loss: 0.0013 - val_loss: 0.0010\n",
      "Epoch 3/50\n",
      "1206/1206 [==============================] - 9s 8ms/step - loss: 9.3369e-04 - val_loss: 9.0982e-04\n",
      "Epoch 4/50\n",
      "1206/1206 [==============================] - 11s 9ms/step - loss: 7.6226e-04 - val_loss: 4.7420e-04\n",
      "Epoch 5/50\n",
      "1206/1206 [==============================] - 11s 9ms/step - loss: 6.3300e-04 - val_loss: 6.4131e-04\n",
      "Epoch 6/50\n",
      "1206/1206 [==============================] - 9s 7ms/step - loss: 6.0068e-04 - val_loss: 4.4966e-04\n",
      "Epoch 7/50\n",
      "1206/1206 [==============================] - 9s 8ms/step - loss: 5.0318e-04 - val_loss: 3.6397e-04\n",
      "Epoch 8/50\n",
      "1206/1206 [==============================] - 10s 9ms/step - loss: 4.6229e-04 - val_loss: 7.2883e-04\n",
      "Epoch 9/50\n",
      "1206/1206 [==============================] - 11s 9ms/step - loss: 8.8116e-04 - val_loss: 2.7647e-04\n",
      "Epoch 10/50\n",
      "1206/1206 [==============================] - 9s 8ms/step - loss: 3.7077e-04 - val_loss: 3.2055e-04\n",
      "Epoch 11/50\n",
      "1206/1206 [==============================] - 9s 7ms/step - loss: 4.2157e-04 - val_loss: 6.6141e-04\n",
      "Epoch 12/50\n",
      "1206/1206 [==============================] - 10s 9ms/step - loss: 3.8061e-04 - val_loss: 4.8726e-04\n",
      "Epoch 13/50\n",
      "1206/1206 [==============================] - 10s 9ms/step - loss: 3.7307e-04 - val_loss: 3.2282e-04\n",
      "Epoch 14/50\n",
      "1206/1206 [==============================] - 10s 8ms/step - loss: 0.0030 - val_loss: 4.3869e-04\n"
     ]
    },
    {
     "data": {
      "text/plain": [
       "<tensorflow.python.keras.callbacks.History at 0x7f5fcc4f27f0>"
      ]
     },
     "execution_count": 168,
     "metadata": {},
     "output_type": "execute_result"
    }
   ],
   "source": [
    "#model.fit(norm_features_train, [norm_time_train, norm_length_train, norm_launch_train, norm_recieve_train], epochs=5)\n",
    "model.fit(\n",
    "    norm_x_train,\n",
    "    norm_y_train,\n",
    "    epochs=50,\n",
    "    batch_size=128,\n",
    "    validation_split=0.15,\n",
    "    callbacks=[early_stoping]\n",
    "    )"
   ]
  },
  {
   "cell_type": "code",
   "execution_count": 169,
   "metadata": {},
   "outputs": [
    {
     "name": "stdout",
     "output_type": "stream",
     "text": [
      "(45376, 8)\n"
     ]
    }
   ],
   "source": [
    "\"\"\"\n",
    "y_test = model(norm_features_test)\n",
    "y_time = y_test[0].numpy()\n",
    "y_length = y_test[1].numpy()\n",
    "y_launch = y_test[2].numpy()\n",
    "y_recieve = y_test[3].numpy()\n",
    "\"\"\"\n",
    "y_test_pred = model(norm_x_test).numpy()\n",
    "y_test_inv = scaler_y.inverse_transform(y_test_pred)\n",
    "\n",
    "print(y_test_pred.shape)\n",
    "y_time = y_test_pred[:,:2]\n",
    "y_length = y_test_pred[:,2:4]\n",
    "y_launch = y_test_pred[:,4:6]\n",
    "y_recieve = y_test_pred[:,6:8]\n"
   ]
  },
  {
   "cell_type": "code",
   "execution_count": 170,
   "metadata": {},
   "outputs": [
    {
     "name": "stdout",
     "output_type": "stream",
     "text": [
      "(45376, 2) (45376, 2)\n"
     ]
    }
   ],
   "source": [
    "import matplotlib.pyplot as plt\n",
    "print(y_time.shape, norm_y_test[:,:2].shape)"
   ]
  },
  {
   "cell_type": "code",
   "execution_count": 171,
   "metadata": {},
   "outputs": [
    {
     "data": {
      "text/plain": [
       "Text(0, 0.5, 'Network prediction (ns)')"
      ]
     },
     "execution_count": 171,
     "metadata": {},
     "output_type": "execute_result"
    },
    {
     "data": {
      "image/png": "[encoded data removed]",
      "text/plain": [
       "<Figure size 432x288 with 1 Axes>"
      ]
     },
     "metadata": {
      "needs_background": "light"
     },
     "output_type": "display_data"
    }
   ],
   "source": [
    "plt.scatter(norm_y_test[:,0], y_time[:,0])\n",
    "plt.xlabel('Analytically calculated travel time (ns)', size=14)\n",
    "plt.ylabel('Network prediction (ns)', size=14)\n",
    "#plt.savefig('model_pred_1.svg')"
   ]
  },
  {
   "cell_type": "code",
   "execution_count": 172,
   "metadata": {},
   "outputs": [
    {
     "data": {
      "text/plain": [
       "Text(0, 0.5, 'Network prediction (ns)')"
      ]
     },
     "execution_count": 172,
     "metadata": {},
     "output_type": "execute_result"
    },
    {
     "data": {
      "image/png": "[encoded data removed]",
      "text/plain": [
       "<Figure size 432x288 with 1 Axes>"
      ]
     },
     "metadata": {
      "needs_background": "light"
     },
     "output_type": "display_data"
    }
   ],
   "source": [
    "plt.scatter(norm_y_test[:,2], y_length[:,0])\n",
    "plt.xlabel('Analytically calculated travel time (ns)', size=14)\n",
    "plt.ylabel('Network prediction (ns)', size=14)\n",
    "#plt.savefig('model_pred_2.svg')"
   ]
  },
  {
   "cell_type": "code",
   "execution_count": 173,
   "metadata": {},
   "outputs": [
    {
     "name": "stdout",
     "output_type": "stream",
     "text": [
      "time_sol_1: mean: 7.9208  std: 103.0650\n",
      "time_sol_2: mean: 22.3157  std: 81.2756\n",
      "length_sol_1: mean: 3.4934  std: 17.6304\n",
      "length_sol_2: mean: 10.8157  std: 20.0470\n",
      "launch_sol_1: mean: -0.1720  std: 2.2102\n",
      "launch_sol_2: mean: -0.0239  std: 1.0747\n",
      "recieve_sol_1: mean: -0.1322  std: 2.4385\n",
      "recieve_sol_2: mean: 0.1078  std: 1.5187\n"
     ]
    }
   ],
   "source": [
    "#diff_deg = y_test - y_test_inv\n",
    "\n",
    "diff = y_test - y_test_inv\n",
    "diff_deg = np.copy(diff)\n",
    "diff_deg[:,4:] = np.degrees(diff_deg[:, 4:])\n",
    "\n",
    "sol = ['time_sol_1:', \n",
    "       'time_sol_2:',\n",
    "       'length_sol_1:',\n",
    "       'length_sol_2:',\n",
    "       'launch_sol_1:',\n",
    "       'launch_sol_2:',\n",
    "       'recieve_sol_1:',\n",
    "       'recieve_sol_2:']\n",
    "\n",
    "for i in range(8):\n",
    "    #mean = np.mean(diff[:,i])\n",
    "    #std = np.std(diff[:,i])\n",
    "    mean = np.mean(diff_deg[:,i])\n",
    "    std = np.std(diff_deg[:,i])\n",
    "    print(sol[i] + f' mean: {mean:.4f}  std: {std:.4f}')"
   ]
  },
  {
   "cell_type": "code",
   "execution_count": 174,
   "metadata": {},
   "outputs": [
    {
     "data": {
      "image/png": "[encoded data removed]",
      "text/plain": [
       "<Figure size 432x288 with 1 Axes>"
      ]
     },
     "metadata": {
      "needs_background": "light"
     },
     "output_type": "display_data"
    }
   ],
   "source": [
    "from radiotools import plthelpers as php\n",
    "fix, ax = php.get_histogram(diff_deg[:,0], bins=50)\n",
    "plt.show()\n",
    "#print(norm_time_train)"
   ]
  },
  {
   "cell_type": "code",
   "execution_count": null,
   "metadata": {},
   "outputs": [],
   "source": []
  }
 ],
 "metadata": {
  "interpreter": {
   "hash": "31f2aee4e71d21fbe5cf8b01ff0e069b9275f58929596ceb00d14d90e3e16cd6"
  },
  "kernelspec": {
   "display_name": "Python 3.8.10 64-bit",
   "language": "python",
   "name": "python3"
  },
  "language_info": {
   "codemirror_mode": {
    "name": "ipython",
    "version": 3
   },
   "file_extension": ".py",
   "mimetype": "text/x-python",
   "name": "python",
   "nbconvert_exporter": "python",
   "pygments_lexer": "ipython3",
   "version": "3.8.5"
  },
  "orig_nbformat": 4
 },
 "nbformat": 4,
 "nbformat_minor": 2
}
