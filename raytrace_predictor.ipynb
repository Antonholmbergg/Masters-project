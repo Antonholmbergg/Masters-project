{
 "cells": [
  {
   "cell_type": "code",
   "execution_count": 2,
   "metadata": {},
   "outputs": [
    {
     "name": "stdout",
     "output_type": "stream",
     "text": [
      "GPU 0  will be allocated\n"
     ]
    }
   ],
   "source": [
    "import os\n",
    "from gpuutils import GpuUtils\n",
    "GpuUtils.allocate(gpu_count=1, framework='keras')\n",
    "\n",
    "import tensorflow as tf\n",
    "physical_devices = tf.config.list_physical_devices('GPU')\n",
    "for device in physical_devices:\n",
    "    tf.config.experimental.set_memory_growth(device, True) \n",
    "\n",
    "import pandas as pd\n",
    "from tensorflow import keras\n",
    "from tensorflow.keras import layers\n",
    "import numpy as np\n",
    "np.set_printoptions(precision=3, suppress=True)\n",
    "from sklearn.preprocessing import MinMaxScaler\n"
   ]
  },
  {
   "cell_type": "code",
   "execution_count": 3,
   "metadata": {},
   "outputs": [
    {
     "data": {
      "text/html": [
       "<div>\n",
       "<style scoped>\n",
       "    .dataframe tbody tr th:only-of-type {\n",
       "        vertical-align: middle;\n",
       "    }\n",
       "\n",
       "    .dataframe tbody tr th {\n",
       "        vertical-align: top;\n",
       "    }\n",
       "\n",
       "    .dataframe thead th {\n",
       "        text-align: right;\n",
       "    }\n",
       "</style>\n",
       "<table border=\"1\" class=\"dataframe\">\n",
       "  <thead>\n",
       "    <tr style=\"text-align: right;\">\n",
       "      <th></th>\n",
       "      <th>type</th>\n",
       "      <th>source_pos_r</th>\n",
       "      <th>source_pos_z</th>\n",
       "      <th>antenna_pos_z</th>\n",
       "      <th>travel_time</th>\n",
       "      <th>path_length</th>\n",
       "      <th>launch_vec_r</th>\n",
       "      <th>launch_vec_z</th>\n",
       "      <th>recieve_vec_r</th>\n",
       "      <th>recieve_vec_z</th>\n",
       "      <th>launch_angle</th>\n",
       "      <th>recieve_angle</th>\n",
       "    </tr>\n",
       "  </thead>\n",
       "  <tbody>\n",
       "    <tr>\n",
       "      <th>0</th>\n",
       "      <td>1</td>\n",
       "      <td>-261.242691</td>\n",
       "      <td>-1519.202542</td>\n",
       "      <td>-100.751798</td>\n",
       "      <td>8533.739837</td>\n",
       "      <td>1442.308966</td>\n",
       "      <td>0.180477</td>\n",
       "      <td>0.983579</td>\n",
       "      <td>-0.192862</td>\n",
       "      <td>-0.981226</td>\n",
       "      <td>0.181471</td>\n",
       "      <td>-2.947514</td>\n",
       "    </tr>\n",
       "    <tr>\n",
       "      <th>1</th>\n",
       "      <td>3</td>\n",
       "      <td>-261.242691</td>\n",
       "      <td>-1519.202542</td>\n",
       "      <td>-100.751798</td>\n",
       "      <td>9551.954357</td>\n",
       "      <td>1640.948938</td>\n",
       "      <td>0.155664</td>\n",
       "      <td>0.987810</td>\n",
       "      <td>-0.166347</td>\n",
       "      <td>0.986067</td>\n",
       "      <td>0.156300</td>\n",
       "      <td>-0.167123</td>\n",
       "    </tr>\n",
       "    <tr>\n",
       "      <th>2</th>\n",
       "      <td>1</td>\n",
       "      <td>-844.747055</td>\n",
       "      <td>-1323.075186</td>\n",
       "      <td>-55.432448</td>\n",
       "      <td>8980.283362</td>\n",
       "      <td>1523.474031</td>\n",
       "      <td>0.550266</td>\n",
       "      <td>0.834990</td>\n",
       "      <td>-0.622250</td>\n",
       "      <td>-0.782819</td>\n",
       "      <td>0.582682</td>\n",
       "      <td>-2.469980</td>\n",
       "    </tr>\n",
       "    <tr>\n",
       "      <th>3</th>\n",
       "      <td>3</td>\n",
       "      <td>-844.747055</td>\n",
       "      <td>-1323.075186</td>\n",
       "      <td>-55.432448</td>\n",
       "      <td>9401.088379</td>\n",
       "      <td>1617.929840</td>\n",
       "      <td>0.509373</td>\n",
       "      <td>0.860546</td>\n",
       "      <td>-0.576008</td>\n",
       "      <td>0.817444</td>\n",
       "      <td>0.534456</td>\n",
       "      <td>-0.613836</td>\n",
       "    </tr>\n",
       "    <tr>\n",
       "      <th>4</th>\n",
       "      <td>1</td>\n",
       "      <td>-1726.403817</td>\n",
       "      <td>-2055.720259</td>\n",
       "      <td>-193.666015</td>\n",
       "      <td>15064.523751</td>\n",
       "      <td>2539.241494</td>\n",
       "      <td>0.679340</td>\n",
       "      <td>0.733824</td>\n",
       "      <td>-0.692648</td>\n",
       "      <td>-0.721276</td>\n",
       "      <td>0.746863</td>\n",
       "      <td>-2.376439</td>\n",
       "    </tr>\n",
       "  </tbody>\n",
       "</table>\n",
       "</div>"
      ],
      "text/plain": [
       "   type  source_pos_r  source_pos_z  antenna_pos_z   travel_time  path_length  \\\n",
       "0     1   -261.242691  -1519.202542    -100.751798   8533.739837  1442.308966   \n",
       "1     3   -261.242691  -1519.202542    -100.751798   9551.954357  1640.948938   \n",
       "2     1   -844.747055  -1323.075186     -55.432448   8980.283362  1523.474031   \n",
       "3     3   -844.747055  -1323.075186     -55.432448   9401.088379  1617.929840   \n",
       "4     1  -1726.403817  -2055.720259    -193.666015  15064.523751  2539.241494   \n",
       "\n",
       "   launch_vec_r  launch_vec_z  recieve_vec_r  recieve_vec_z  launch_angle  \\\n",
       "0      0.180477      0.983579      -0.192862      -0.981226      0.181471   \n",
       "1      0.155664      0.987810      -0.166347       0.986067      0.156300   \n",
       "2      0.550266      0.834990      -0.622250      -0.782819      0.582682   \n",
       "3      0.509373      0.860546      -0.576008       0.817444      0.534456   \n",
       "4      0.679340      0.733824      -0.692648      -0.721276      0.746863   \n",
       "\n",
       "   recieve_angle  \n",
       "0      -2.947514  \n",
       "1      -0.167123  \n",
       "2      -2.469980  \n",
       "3      -0.613836  \n",
       "4      -2.376439  "
      ]
     },
     "execution_count": 3,
     "metadata": {},
     "output_type": "execute_result"
    }
   ],
   "source": [
    "df = pd.read_csv('/mnt/md0/aholmberg/data/raytrace_samples_angle.csv')\n",
    "\n",
    "#df['launch_angle'] = np.arctan2(df['launch_vec_r'].to_numpy(), df['launch_vec_z'].to_numpy())\n",
    "#df['recieve_angle'] = np.arctan2(df['recieve_vec_r'].to_numpy(), df['recieve_vec_z'].to_numpy())\n",
    "#df.to_csv('/mnt/md0/aholmberg/data/raytrace_samples_angle.csv', index=False)\n",
    "df.head()"
   ]
  },
  {
   "cell_type": "code",
   "execution_count": 4,
   "metadata": {},
   "outputs": [
    {
     "name": "stdout",
     "output_type": "stream",
     "text": [
      "(453758,) (453758,) (453758,) (453758,)\n"
     ]
    }
   ],
   "source": [
    "sc_pos_r = df['source_pos_r'].to_numpy().astype(np.float32)\n",
    "sc_pos_z = df['source_pos_z'].to_numpy().astype(np.float32)\n",
    "ant_pos_z = df['antenna_pos_z'].to_numpy().astype(np.float32)\n",
    "features = np.stack((sc_pos_r, sc_pos_z, ant_pos_z), axis=1)\n",
    "\n",
    "path_length = df['path_length'].to_numpy().astype(np.float32)\n",
    "travel_time = df['travel_time'].to_numpy().astype(np.float32)\n",
    "\n",
    "#launch_vec_r = df['launch_vec_r'].to_numpy().astype(np.float32)\n",
    "#launch_vec_z = df['launch_vec_z'].to_numpy().astype(np.float32)\n",
    "#launch = np.stack((launch_vec_r, launch_vec_z), axis=1)\n",
    "\n",
    "#recieve_vec_r = df['recieve_vec_r'].to_numpy().astype(np.float32)\n",
    "#recieve_vec_z = df['recieve_vec_z'].to_numpy().astype(np.float32)\n",
    "#recieve = np.stack((recieve_vec_r, recieve_vec_z), axis=1)\n",
    "\n",
    "launch = df['launch_angle'].to_numpy().astype(np.float32)\n",
    "recieve = df['recieve_angle'].to_numpy().astype(np.float32)\n",
    "\n",
    "typ = df['type'].to_numpy()\n",
    "print(launch.shape, recieve.shape, travel_time.shape, path_length.shape)"
   ]
  },
  {
   "cell_type": "code",
   "execution_count": 5,
   "metadata": {},
   "outputs": [
    {
     "name": "stdout",
     "output_type": "stream",
     "text": [
      "(226879, 2) (226879, 2) (226879, 2) (226879, 2)\n"
     ]
    }
   ],
   "source": [
    "features  = features[0::2,:]\n",
    "features_train = features[:int(features.shape[0]*0.8)]\n",
    "features_test = features[int(features.shape[0]*0.8):]\n",
    "\n",
    "temp1 = travel_time[0::2]\n",
    "temp2 = travel_time[1::2]\n",
    "out_time = np.stack((temp1, temp2), axis=1)\n",
    "out_time_train = out_time[:int(out_time.shape[0]*0.8),:]\n",
    "out_time_test = out_time[int(out_time.shape[0]*0.8):,:]\n",
    "\n",
    "\n",
    "temp1 = path_length[0::2]\n",
    "temp2 = path_length[1::2]\n",
    "out_length = np.stack((temp1, temp2), axis=1)\n",
    "out_length_train = out_length[:int(out_length.shape[0]*0.8),:]\n",
    "out_length_test = out_length[int(out_length.shape[0]*0.8):,:]\n",
    "\n",
    "temp1 = launch[0::2]\n",
    "temp2 = launch[1::2]\n",
    "out_launch = np.stack((temp1, temp2), axis=1)\n",
    "out_launch_train = out_launch[:int(out_launch.shape[0]*0.8),:]\n",
    "out_launch_test = out_launch[int(out_launch.shape[0]*0.8):,:]\n",
    "\n",
    "temp1 = recieve[0::2]\n",
    "temp2 = recieve[1::2]\n",
    "out_recieve = np.stack((temp1, temp2), axis=1)\n",
    "out_recieve_train = out_recieve[:int(out_recieve.shape[0]*0.8),:]\n",
    "out_recieve_test = out_recieve[int(out_recieve.shape[0]*0.8):,:]\n",
    "\n",
    "\"\"\"\n",
    "out1_train = out1[:int(out1.shape[0]*0.8)]\n",
    "out1_test = out1[int(out1.shape[0]*0.8):]\n",
    "\n",
    "out2_train = out2[:int(out2.shape[0]*0.8)]\n",
    "out2_test = out2[int(out2.shape[0]*0.8):]\n",
    "\"\"\"\n",
    "print(out_time.shape, out_length.shape, out_launch.shape, out_recieve.shape)"
   ]
  },
  {
   "cell_type": "code",
   "execution_count": 6,
   "metadata": {},
   "outputs": [
    {
     "name": "stdout",
     "output_type": "stream",
     "text": [
      "[1 1 1 ... 1 1 1] [3 3 3 ... 3 3 3] [1 3 1 ... 3 1 3]\n",
      "(226879,) (226879,) (453758,)\n",
      "{1: 222350, 2: 4529} {2: 19933, 3: 206946}\n"
     ]
    }
   ],
   "source": [
    "temp1 = typ[0::2]\n",
    "temp2 = typ[1::2]\n",
    "print(temp1, temp2, typ)\n",
    "print(temp1.shape, temp2.shape, typ.shape)\n",
    "unique, counts = np.unique(temp1, return_counts=True)\n",
    "a = dict(zip(unique, counts))\n",
    "unique, counts = np.unique(temp2, return_counts=True)\n",
    "b = dict(zip(unique, counts))\n",
    "print(a, b)"
   ]
  },
  {
   "cell_type": "code",
   "execution_count": 7,
   "metadata": {},
   "outputs": [
    {
     "name": "stdout",
     "output_type": "stream",
     "text": [
      "2\n"
     ]
    }
   ],
   "source": [
    "unique, counts = np.unique(features_train[:,0], return_counts=True)\n",
    "#c = dict(zip(unique, counts))\n",
    "print(max(counts))"
   ]
  },
  {
   "cell_type": "code",
   "execution_count": 8,
   "metadata": {},
   "outputs": [],
   "source": [
    "scaler_features = MinMaxScaler(feature_range=(0,1))\n",
    "scaler_features.fit(features_train)\n",
    "norm_features_train = scaler_features.transform(features_train)\n",
    "norm_features_test = scaler_features.transform(features_test)\n",
    "\n",
    "scaler_time = MinMaxScaler(feature_range=(0,1))\n",
    "scaler_time.fit(out_time_train)\n",
    "norm_time_train = scaler_time.transform(out_time_train)\n",
    "norm_time_test = scaler_time.transform(out_time_test)\n",
    "\n",
    "scaler_length = MinMaxScaler(feature_range=(0,1))\n",
    "scaler_length.fit(out_length_train)\n",
    "norm_length_train = scaler_length.transform(out_length_train)\n",
    "norm_length_test = scaler_length.transform(out_length_test)\n",
    "\n",
    "scaler_launch = MinMaxScaler(feature_range=(0,1))\n",
    "scaler_launch.fit(out_launch_train)\n",
    "norm_launch_train = scaler_launch.transform(out_launch_train)\n",
    "norm_launch_test = scaler_launch.transform(out_launch_test)\n",
    "\n",
    "scaler_recieve = MinMaxScaler(feature_range=(0,1))\n",
    "scaler_recieve.fit(out_recieve_train)\n",
    "norm_recieve_train = scaler_recieve.transform(out_recieve_train)\n",
    "norm_recieve_test = scaler_recieve.transform(out_recieve_test)\n",
    "\n",
    "#normalize = layers.Normalization()\n",
    "#normalize.adapt(features_train)"
   ]
  },
  {
   "cell_type": "code",
   "execution_count": 9,
   "metadata": {},
   "outputs": [
    {
     "data": {
      "text/plain": [
       "\"\\ninputs = keras.Input(shape=(3, ))\\n#x = normalize(inputs)\\nx = layers.Dense(32, activation='relu')(inputs)\\nx = layers.Dense(64, activation='relu')(x)\\nx = layers.Dense(128, activation='relu')(x)\\nx1 = layers.Dense(64, activation='relu')(x)\\nx2 = layers.Dense(64, activation='relu')(x)\\nx3 = layers.Dense(64, activation='relu')(x)\\nx4 = layers.Dense(64, activation='relu')(x)\\nx1 = layers.Dense(32, activation='relu')(x1)\\nx2 = layers.Dense(32, activation='relu')(x2)\\nx3 = layers.Dense(32, activation='relu')(x3)\\nx4 = layers.Dense(32, activation='relu')(x4)\\noutput_time = layers.Dense(2, activation='relu')(x1)\\noutput_length = layers.Dense(2, activation='relu')(x2)\\noutput_launch = layers.Dense(4, activation='relu')(x3)\\noutput_recieve = layers.Dense(4, activation='relu')(x4)\\n\""
      ]
     },
     "execution_count": 9,
     "metadata": {},
     "output_type": "execute_result"
    }
   ],
   "source": [
    "\"\"\"\n",
    "inputs = keras.Input(shape=(3, ))\n",
    "#x = normalize(inputs)\n",
    "x = layers.Dense(32, activation='relu')(inputs)\n",
    "x = layers.Dense(64, activation='relu')(x)\n",
    "x = layers.Dense(128, activation='relu')(x)\n",
    "x1 = layers.Dense(64, activation='relu')(x)\n",
    "x2 = layers.Dense(64, activation='relu')(x)\n",
    "x3 = layers.Dense(64, activation='relu')(x)\n",
    "x4 = layers.Dense(64, activation='relu')(x)\n",
    "x1 = layers.Dense(32, activation='relu')(x1)\n",
    "x2 = layers.Dense(32, activation='relu')(x2)\n",
    "x3 = layers.Dense(32, activation='relu')(x3)\n",
    "x4 = layers.Dense(32, activation='relu')(x4)\n",
    "output_time = layers.Dense(2, activation='relu')(x1)\n",
    "output_length = layers.Dense(2, activation='relu')(x2)\n",
    "output_launch = layers.Dense(4, activation='relu')(x3)\n",
    "output_recieve = layers.Dense(4, activation='relu')(x4)\n",
    "\"\"\"\n"
   ]
  },
  {
   "cell_type": "code",
   "execution_count": 10,
   "metadata": {},
   "outputs": [],
   "source": [
    "#model = keras.Model(inputs=inputs, outputs=[output_time, output_length, output_launch, output_recieve], name=\"full_model\")\n",
    "from raytrace_model_def import Fc_model\n",
    "activation = keras.layers.ReLU()\n",
    "layers = [128, 256, 512]\n",
    "model = Fc_model(layers, activation)"
   ]
  },
  {
   "cell_type": "code",
   "execution_count": 11,
   "metadata": {},
   "outputs": [],
   "source": [
    "#keras.utils.plot_model(model, \"travel_time_model.png\")"
   ]
  },
  {
   "cell_type": "code",
   "execution_count": 12,
   "metadata": {},
   "outputs": [
    {
     "name": "stdout",
     "output_type": "stream",
     "text": [
      "Model: \"fc_model\"\n",
      "_________________________________________________________________\n",
      "Layer (type)                 Output Shape              Param #   \n",
      "=================================================================\n",
      "dense_1 (Dense)              multiple                  1408      \n",
      "_________________________________________________________________\n",
      "dense_2 (Dense)              multiple                  33024     \n",
      "_________________________________________________________________\n",
      "dense_3 (Dense)              multiple                  131584    \n",
      "_________________________________________________________________\n",
      "dense (Dense)                multiple                  40        \n",
      "_________________________________________________________________\n",
      "dense_4 (Dense)              multiple                  4104      \n",
      "=================================================================\n",
      "Total params: 170,160\n",
      "Trainable params: 170,160\n",
      "Non-trainable params: 0\n",
      "_________________________________________________________________\n",
      "None\n"
     ]
    }
   ],
   "source": [
    "model.build((1,3))\n",
    "print(model.summary())"
   ]
  },
  {
   "cell_type": "code",
   "execution_count": 13,
   "metadata": {},
   "outputs": [],
   "source": [
    "model.compile(optimizer='adam', loss='mse')"
   ]
  },
  {
   "cell_type": "code",
   "execution_count": 14,
   "metadata": {},
   "outputs": [
    {
     "name": "stdout",
     "output_type": "stream",
     "text": [
      "(181503, 3)\n"
     ]
    }
   ],
   "source": [
    "y = np.concatenate((norm_time_train, norm_length_train, norm_launch_train, norm_recieve_train), axis=1)\n",
    "print(norm_features_train.shape)"
   ]
  },
  {
   "cell_type": "code",
   "execution_count": 15,
   "metadata": {},
   "outputs": [
    {
     "name": "stdout",
     "output_type": "stream",
     "text": [
      "5672/5672 [==============================] - 18s 3ms/step - loss: 0.0032\n"
     ]
    },
    {
     "data": {
      "text/plain": [
       "<tensorflow.python.keras.callbacks.History at 0x7f95f84de3a0>"
      ]
     },
     "execution_count": 15,
     "metadata": {},
     "output_type": "execute_result"
    }
   ],
   "source": [
    "#model.fit(norm_features_train, [norm_time_train, norm_length_train, norm_launch_train, norm_recieve_train], epochs=5)\n",
    "model.fit(norm_features_train, y, epochs=1)"
   ]
  },
  {
   "cell_type": "code",
   "execution_count": null,
   "metadata": {},
   "outputs": [],
   "source": []
  },
  {
   "cell_type": "code",
   "execution_count": 16,
   "metadata": {},
   "outputs": [
    {
     "name": "stdout",
     "output_type": "stream",
     "text": [
      "(45376, 8)\n"
     ]
    }
   ],
   "source": [
    "\"\"\"\n",
    "y_test = model(norm_features_test)\n",
    "y_time = y_test[0].numpy()\n",
    "y_length = y_test[1].numpy()\n",
    "y_launch = y_test[2].numpy()\n",
    "y_recieve = y_test[3].numpy()\n",
    "\"\"\"\n",
    "y_test = model(norm_features_test).numpy()\n",
    "print(y_test.shape)\n",
    "y_time = y_test[:,:2]\n",
    "y_length = y_test[:,2:4]\n",
    "y_launch = y_test[:,4:6]\n",
    "y_recieve = y_test[:,6:8]\n"
   ]
  },
  {
   "cell_type": "code",
   "execution_count": 17,
   "metadata": {},
   "outputs": [
    {
     "name": "stdout",
     "output_type": "stream",
     "text": [
      "(45376, 2) (45376, 2)\n"
     ]
    }
   ],
   "source": [
    "import matplotlib.pyplot as plt\n",
    "print(y_time.shape, norm_time_test.shape)"
   ]
  },
  {
   "cell_type": "code",
   "execution_count": 18,
   "metadata": {},
   "outputs": [
    {
     "data": {
      "text/plain": [
       "Text(0, 0.5, 'Network prediction (ns)')"
      ]
     },
     "execution_count": 18,
     "metadata": {},
     "output_type": "execute_result"
    },
    {
     "data": {
      "image/png": "[encoded data removed]",
      "text/plain": [
       "<Figure size 432x288 with 1 Axes>"
      ]
     },
     "metadata": {
      "needs_background": "light"
     },
     "output_type": "display_data"
    }
   ],
   "source": [
    "plt.scatter(norm_time_test[:,0], y_time[:,0])\n",
    "plt.xlabel('Analytically calculated travel time (ns)', size=14)\n",
    "plt.ylabel('Network prediction (ns)', size=14)\n",
    "#plt.savefig('model_pred_1.svg')"
   ]
  },
  {
   "cell_type": "code",
   "execution_count": 19,
   "metadata": {},
   "outputs": [
    {
     "data": {
      "text/plain": [
       "Text(0, 0.5, 'Network prediction (ns)')"
      ]
     },
     "execution_count": 19,
     "metadata": {},
     "output_type": "execute_result"
    },
    {
     "data": {
      "image/png": "[encoded data removed]",
      "text/plain": [
       "<Figure size 432x288 with 1 Axes>"
      ]
     },
     "metadata": {
      "needs_background": "light"
     },
     "output_type": "display_data"
    }
   ],
   "source": [
    "plt.scatter(norm_time_test[:,1], y_time[:,1])\n",
    "plt.xlabel('Analytically calculated travel time (ns)', size=14)\n",
    "plt.ylabel('Network prediction (ns)', size=14)\n",
    "#plt.savefig('model_pred_2.svg')"
   ]
  },
  {
   "cell_type": "code",
   "execution_count": 20,
   "metadata": {},
   "outputs": [
    {
     "name": "stdout",
     "output_type": "stream",
     "text": [
      "Mean of difference true-pred -48.0171 Std 81.3692\n",
      "Mean of difference true-pred -10.7276 Std 72.8668\n"
     ]
    }
   ],
   "source": [
    "y_time_inv = scaler_time.inverse_transform(y_time)\n",
    "diff_time = out_time_test - y_time_inv\n",
    "print(f'Mean of difference true-pred {np.mean(diff_time[:,0]):.4f} Std {np.std(diff_time[:,0]):.4f}')\n",
    "print(f'Mean of difference true-pred {np.mean(diff_time[:,1]):.4f} Std {np.std(diff_time[:,1]):.4f}')"
   ]
  },
  {
   "cell_type": "code",
   "execution_count": 21,
   "metadata": {},
   "outputs": [
    {
     "name": "stdout",
     "output_type": "stream",
     "text": [
      "Mean of difference true-pred 6.6258 Std 15.0692\n",
      "Mean of difference true-pred -2.8749 Std 14.5014\n"
     ]
    }
   ],
   "source": [
    "y_length_inv = scaler_length.inverse_transform(y_length)\n",
    "diff_length = out_length_test - y_length_inv\n",
    "print(f'Mean of difference true-pred {np.mean(diff_length[:,0]):.4f} Std {np.std(diff_length[:,0]):.4f}')\n",
    "print(f'Mean of difference true-pred {np.mean(diff_length[:,1]):.4f} Std {np.std(diff_length[:,1]):.4f}')"
   ]
  },
  {
   "cell_type": "code",
   "execution_count": 22,
   "metadata": {},
   "outputs": [
    {
     "name": "stdout",
     "output_type": "stream",
     "text": [
      "Mean of difference true-pred 0.0003 Std 0.0406\n",
      "Mean of difference true-pred 0.0062 Std 0.0208\n"
     ]
    }
   ],
   "source": [
    "y_launch_inv = scaler_launch.inverse_transform(y_launch)\n",
    "diff_launch = out_launch_test - y_launch_inv\n",
    "print(f'Mean of difference true-pred {np.mean(diff_launch[:,0]):.4f} Std {np.std(diff_launch[:,0]):.4f}')\n",
    "print(f'Mean of difference true-pred {np.mean(diff_launch[:,1]):.4f} Std {np.std(diff_launch[:,1]):.4f}')"
   ]
  },
  {
   "cell_type": "code",
   "execution_count": 23,
   "metadata": {},
   "outputs": [
    {
     "name": "stdout",
     "output_type": "stream",
     "text": [
      "Mean of difference true-pred 0.0026 Std 0.0434\n",
      "Mean of difference true-pred 0.0017 Std 0.0270\n"
     ]
    }
   ],
   "source": [
    "y_recieve_inv = scaler_recieve.inverse_transform(y_recieve)\n",
    "diff_recieve = out_recieve_test - y_recieve_inv\n",
    "print(f'Mean of difference true-pred {np.mean(diff_recieve[:,0]):.4f} Std {np.std(diff_recieve[:,0]):.4f}')\n",
    "print(f'Mean of difference true-pred {np.mean(diff_recieve[:,1]):.4f} Std {np.std(diff_recieve[:,1]):.4f}')"
   ]
  },
  {
   "cell_type": "code",
   "execution_count": 24,
   "metadata": {},
   "outputs": [],
   "source": [
    "#print(y_length_inv)"
   ]
  },
  {
   "cell_type": "code",
   "execution_count": 25,
   "metadata": {},
   "outputs": [
    {
     "ename": "ModuleNotFoundError",
     "evalue": "No module named 'past'",
     "output_type": "error",
     "traceback": [
      "\u001b[0;31m---------------------------------------------------------------------------\u001b[0m",
      "\u001b[0;31mModuleNotFoundError\u001b[0m                       Traceback (most recent call last)",
      "\u001b[0;32m<ipython-input-25-e1929dca6679>\u001b[0m in \u001b[0;36m<module>\u001b[0;34m\u001b[0m\n\u001b[0;32m----> 1\u001b[0;31m \u001b[0;32mfrom\u001b[0m \u001b[0mradiotools\u001b[0m \u001b[0;32mimport\u001b[0m \u001b[0mplthelpers\u001b[0m \u001b[0;32mas\u001b[0m \u001b[0mphp\u001b[0m\u001b[0;34m\u001b[0m\u001b[0;34m\u001b[0m\u001b[0m\n\u001b[0m\u001b[1;32m      2\u001b[0m \u001b[0mfix\u001b[0m\u001b[0;34m,\u001b[0m \u001b[0max\u001b[0m \u001b[0;34m=\u001b[0m \u001b[0mphp\u001b[0m\u001b[0;34m.\u001b[0m\u001b[0mget_histogram\u001b[0m\u001b[0;34m(\u001b[0m\u001b[0mdiff_length\u001b[0m\u001b[0;34m[\u001b[0m\u001b[0;34m:\u001b[0m\u001b[0;34m,\u001b[0m\u001b[0;36m1\u001b[0m\u001b[0;34m]\u001b[0m\u001b[0;34m,\u001b[0m \u001b[0mbins\u001b[0m\u001b[0;34m=\u001b[0m\u001b[0;36m50\u001b[0m\u001b[0;34m)\u001b[0m\u001b[0;34m\u001b[0m\u001b[0;34m\u001b[0m\u001b[0m\n\u001b[1;32m      3\u001b[0m \u001b[0mplt\u001b[0m\u001b[0;34m.\u001b[0m\u001b[0mshow\u001b[0m\u001b[0;34m(\u001b[0m\u001b[0;34m)\u001b[0m\u001b[0;34m\u001b[0m\u001b[0;34m\u001b[0m\u001b[0m\n\u001b[1;32m      4\u001b[0m \u001b[0;31m#print(norm_time_train)\u001b[0m\u001b[0;34m\u001b[0m\u001b[0;34m\u001b[0m\u001b[0;34m\u001b[0m\u001b[0m\n",
      "\u001b[0;32m/software/anaconda3/envs/tf-gpu/lib/python3.8/site-packages/radiotools/plthelpers.py\u001b[0m in \u001b[0;36m<module>\u001b[0;34m\u001b[0m\n\u001b[1;32m      3\u001b[0m \u001b[0;32mimport\u001b[0m \u001b[0mos\u001b[0m\u001b[0;34m\u001b[0m\u001b[0;34m\u001b[0m\u001b[0m\n\u001b[1;32m      4\u001b[0m \u001b[0;32mfrom\u001b[0m \u001b[0mmatplotlib\u001b[0m \u001b[0;32mimport\u001b[0m \u001b[0mcolors\u001b[0m \u001b[0;32mas\u001b[0m \u001b[0mmcolors\u001b[0m\u001b[0;34m\u001b[0m\u001b[0;34m\u001b[0m\u001b[0m\n\u001b[0;32m----> 5\u001b[0;31m \u001b[0;32mfrom\u001b[0m \u001b[0mpast\u001b[0m\u001b[0;34m.\u001b[0m\u001b[0mbuiltins\u001b[0m \u001b[0;32mimport\u001b[0m \u001b[0mxrange\u001b[0m\u001b[0;34m\u001b[0m\u001b[0;34m\u001b[0m\u001b[0m\n\u001b[0m\u001b[1;32m      6\u001b[0m \u001b[0;34m\u001b[0m\u001b[0m\n\u001b[1;32m      7\u001b[0m \u001b[0;32mfrom\u001b[0m \u001b[0mscipy\u001b[0m \u001b[0;32mimport\u001b[0m \u001b[0moptimize\u001b[0m\u001b[0;34m\u001b[0m\u001b[0;34m\u001b[0m\u001b[0m\n",
      "\u001b[0;31mModuleNotFoundError\u001b[0m: No module named 'past'"
     ]
    }
   ],
   "source": [
    "from radiotools import plthelpers as php\n",
    "fix, ax = php.get_histogram(diff_length[:,1], bins=50)\n",
    "plt.show()\n",
    "#print(norm_time_train)"
   ]
  },
  {
   "cell_type": "code",
   "execution_count": null,
   "metadata": {},
   "outputs": [],
   "source": []
  }
 ],
 "metadata": {
  "interpreter": {
   "hash": "31f2aee4e71d21fbe5cf8b01ff0e069b9275f58929596ceb00d14d90e3e16cd6"
  },
  "kernelspec": {
   "display_name": "Python 3.8.10 64-bit",
   "language": "python",
   "name": "python3"
  },
  "language_info": {
   "codemirror_mode": {
    "name": "ipython",
    "version": 3
   },
   "file_extension": ".py",
   "mimetype": "text/x-python",
   "name": "python",
   "nbconvert_exporter": "python",
   "pygments_lexer": "ipython3",
   "version": "3.8.5"
  },
  "orig_nbformat": 4
 },
 "nbformat": 4,
 "nbformat_minor": 2
}
