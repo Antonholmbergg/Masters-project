{
 "cells": [
  {
   "cell_type": "markdown",
   "metadata": {},
   "source": [
    "# Used for testing different scaling schemes for the signals"
   ]
  },
  {
   "cell_type": "code",
   "execution_count": null,
   "metadata": {},
   "outputs": [],
   "source": [
    "import os\n",
    "#import cWGANGP_model_def\n",
    "#import pandas as pd\n",
    "import tensorflow as tf\n",
    "from tensorflow import keras\n",
    "import numpy as np\n",
    "#from sklearn.preprocessing import MinMaxScaler\n",
    "from NuRadioReco.utilities import units\n",
    "import matplotlib.pyplot as plt\n",
    "import seaborn as sns\n",
    "from matplotlib.ticker import AutoMinorLocator\n",
    "plt.style.use('plot_style.txt')"
   ]
  },
  {
   "cell_type": "markdown",
   "metadata": {},
   "source": [
    "### Load data"
   ]
  },
  {
   "cell_type": "code",
   "execution_count": null,
   "metadata": {},
   "outputs": [],
   "source": [
    "data = np.load('/mnt/md0/aholmberg/data/signal_had_14_10deg.npy')\n",
    "condition = data[:, :2]\n",
    "shower_n = data[:, 3]\n",
    "signals = data[:, 3:]\n",
    "signals_filtered = np.load('/mnt/md0/aholmberg/data/signal_had_14_filtered_10deg.npy')"
   ]
  },
  {
   "cell_type": "markdown",
   "metadata": {},
   "source": [
    "### Define a normalization for the signals based on the parametrisation defined in the alvarez model"
   ]
  },
  {
   "cell_type": "code",
   "execution_count": null,
   "metadata": {},
   "outputs": [],
   "source": [
    "def get_time_normalized(theta, trace, n_index=1.78, R =1 * units.km):\n",
    "    cherenkov_angle = np.arccos(1. / n_index)\n",
    "    scale_factor = np.expand_dims(((np.sin(theta) / np.sin(cherenkov_angle)) * np.exp(-np.log(2) * (theta - cherenkov_angle) ** 2) / R), axis=-1)\n",
    "    trace_scaled = trace / scale_factor\n",
    "    return trace_scaled\n"
   ]
  },
  {
   "cell_type": "markdown",
   "metadata": {},
   "source": [
    "# See wat impact the different parts of the alvarez model have"
   ]
  },
  {
   "cell_type": "code",
   "execution_count": null,
   "metadata": {},
   "outputs": [],
   "source": [
    "N = 896\n",
    "dt = 1e-10 * units.second\n",
    "n_index = 1.78\n",
    "R = 1 * units.km\n",
    "condition = data[:, :2]\n",
    "index = 9290\n",
    "print(condition[index,:])\n",
    "energy = condition[index, 0] * units.eV\n",
    "theta = condition[index, 1] * units.rad\n",
    "print(condition[index,0] / units.PeV, condition[index, 1] / units.deg)"
   ]
  },
  {
   "cell_type": "code",
   "execution_count": null,
   "metadata": {},
   "outputs": [],
   "source": [
    "freqs = np.fft.rfftfreq(N, dt)[1:]\n",
    "\n",
    "cherenkov_angle = np.arccos(1. / n_index)\n",
    "\n",
    "epsilon = np.log10(energy / units.TeV)\n",
    "dThetaHad = 0\n",
    "if (epsilon >= 0 and epsilon <= 2):\n",
    "    dThetaHad = 500 * units.MHz / freqs * (2.07 - 0.33 * epsilon + 7.5e-2 * epsilon ** 2) * units.deg\n",
    "elif (epsilon > 2 and epsilon <= 5):\n",
    "    dThetaHad = 500 * units.MHz / freqs * (1.74 - 1.21e-2 * epsilon) * units.deg\n",
    "elif(epsilon > 5 and epsilon <= 7):\n",
    "    dThetaHad = 500 * units.MHz / freqs * (4.23 - 0.785 * epsilon + 5.5e-2 * epsilon ** 2) * units.deg\n",
    "elif(epsilon > 7):\n",
    "    dThetaHad = 500 * units.MHz / freqs * (4.23 - 0.785 * 7 + 5.5e-2 * 7 ** 2) * \\\n",
    "        (1 + (epsilon - 7) * 0.075) * units.deg\n",
    "print(cherenkov_angle/units.deg)"
   ]
  },
  {
   "cell_type": "code",
   "execution_count": null,
   "metadata": {},
   "outputs": [],
   "source": [
    "f0 = 1.15 * units.GHz\n",
    "E = 2.53e-7 * energy / units.TeV * freqs / f0 / (1 + (freqs / f0) ** 1.44)\n",
    "E *= units.V / units.m / units.MHz\n",
    "plt.plot(E)\n",
    "E *= np.sin(theta) / np.sin(cherenkov_angle)\n",
    "plt.plot(E)"
   ]
  },
  {
   "cell_type": "code",
   "execution_count": null,
   "metadata": {},
   "outputs": [],
   "source": [
    "tmp = np.zeros(len(freqs) + 1)\n",
    "tmp3 = np.zeros(len(freqs) + 1)\n",
    "tmp[1:] = E * np.exp(-np.log(2) * ((theta - cherenkov_angle) / dThetaHad) ** 2) / R\n",
    "tmp3[1:] = E * np.exp(-np.log(2) * ((theta - cherenkov_angle)) ** 2) / R\n",
    "plt.plot(tmp)\n",
    "def missing_energy_factor(E_0):\n",
    "    # Missing energy factor for hadronic cascades\n",
    "    # Taken from DOI: 10.1016/S0370-2693(98)00905-8\n",
    "    epsilon = np.log10(E_0 / units.TeV)\n",
    "    f_epsilon = -1.27e-2 - 4.76e-2 * (epsilon + 3)\n",
    "    f_epsilon += -2.07e-3 * (epsilon + 3) ** 2 + 0.52 * np.sqrt(epsilon + 3)\n",
    "    return f_epsilon\n",
    "\n",
    "tmp[1:] *= missing_energy_factor(energy)\n",
    "plt.plot(tmp)\n",
    "plt.plot(tmp3)"
   ]
  },
  {
   "cell_type": "code",
   "execution_count": null,
   "metadata": {},
   "outputs": [],
   "source": [
    "tmp2 = tmp.copy()\n",
    "tmp[1:] /= np.sin(theta) / np.sin(cherenkov_angle)\n",
    "tmp[1:] /= np.exp(-np.log(2) * ((theta - cherenkov_angle) ** 2) / dThetaHad) / R\n",
    "\n",
    "tmp2 *= 0.5\n",
    "tmp *= 0.5  # the factor 0.5 is introduced to compensate the unusual fourier transform normalization used in the ZHS code\n",
    "\n",
    "trace = np.fft.irfft(tmp * np.exp(0.5j * np.pi)) / dt  # set phases to 90deg\n",
    "trace = np.roll(trace, len(trace) // 2)\n",
    "\n",
    "trace2 = np.fft.irfft(tmp2 * np.exp(0.5j * np.pi)) / dt  # set phases to 90deg\n",
    "trace2 = np.roll(trace2, len(trace2) // 2)\n",
    "\n",
    "arztrace = signals_filtered[index,:].copy()"
   ]
  },
  {
   "cell_type": "code",
   "execution_count": null,
   "metadata": {},
   "outputs": [],
   "source": [
    "trace2 /= np.sin(theta) / np.sin(cherenkov_angle)\n",
    "trace2 /= np.exp(-np.log(2) * ((theta - cherenkov_angle)) ** 2) / R # actual norm  / dThetaHad\n",
    "arztrace /= np.sin(theta) / np.sin(cherenkov_angle)\n",
    "arztrace /= np.exp(-np.log(2) * ((theta - cherenkov_angle)) ** 2) / R # actual norm "
   ]
  },
  {
   "cell_type": "code",
   "execution_count": null,
   "metadata": {},
   "outputs": [],
   "source": [
    "factor = np.sin(theta) / np.sin(cherenkov_angle) * np.exp(-np.log(2) * ((theta - cherenkov_angle)) ** 2) / R\n",
    "factor"
   ]
  },
  {
   "cell_type": "code",
   "execution_count": null,
   "metadata": {},
   "outputs": [],
   "source": [
    "plt.plot(trace)\n",
    "plt.plot(trace2)\n",
    "plt.plot(arztrace)"
   ]
  },
  {
   "cell_type": "code",
   "execution_count": null,
   "metadata": {},
   "outputs": [],
   "source": [
    "plt.plot(trace*(np.power(10, (17 - np.log10(energy/units.eV)))))\n",
    "plt.plot(trace2*(np.power(10, (17 - np.log10(energy/units.eV)))))\n",
    "plt.plot(arztrace*(np.power(10, (17 - np.log10(energy/units.eV)))))"
   ]
  },
  {
   "cell_type": "markdown",
   "metadata": {},
   "source": [
    "# Compare normalisation techniques"
   ]
  },
  {
   "cell_type": "code",
   "execution_count": null,
   "metadata": {},
   "outputs": [],
   "source": [
    "n = 1024*32\n",
    "test_signals = signals_filtered[0:n*10:10, :]\n",
    "test_condition = condition[0:n*10:10, :]\n",
    "test_signals_escale = test_signals*np.expand_dims(1e19/test_condition[:,0], axis=-1)\n",
    "test_signals_anglescale = get_time_normalized(test_condition[:, 1], test_signals)\n",
    "#test_signals_scaled = test_signals*np.expand_dims(1e19/test_condition[:,0], axis=-1) * np.expand_dims((((test_condition[:, 1]/units.deg - cherenkov_angle/units.deg))**4 + 1)/3, axis=-1)\n",
    "test_signals_scaled = test_signals*np.expand_dims(1e19/test_condition[:,0], axis=-1) * np.expand_dims((((test_condition[:, 1]/units.deg - cherenkov_angle/units.deg))**4 + 1)/6, axis=-1)\n",
    "#test_signals_scaled = test_signals_anglescale * np.expand_dims(1e19/test_condition[:,0], axis=-1)\n",
    "#test_signals_scaled = test_signals_anglescale * np.expand_dims(np.power(10, (16 - np.log10(test_condition[:, 0]))), axis=-1)\n",
    "#test_signals_scaled = test_signals_anglescale * np.expand_dims(np.power(10, 1.6*np.tanh(16.5 - np.log10(test_condition[:, 0]))), axis=-1)\n",
    "#test_signals_scaled = test_signals_anglescale * np.expand_dims(np.power(10, 0.001*(17 - np.log10(test_condition[:, 0]))**3), axis=-1)"
   ]
  },
  {
   "cell_type": "markdown",
   "metadata": {},
   "source": [
    "### Make a histogram of the amplitudes "
   ]
  },
  {
   "cell_type": "code",
   "execution_count": null,
   "metadata": {},
   "outputs": [],
   "source": [
    "max = np.max(np.abs(test_signals), axis=1)\n",
    "max_escale = np.max(np.abs(test_signals_escale), axis=1)\n",
    "max_ascale = np.max(np.abs(test_signals_anglescale), axis=1)\n",
    "max_scaled = np.max(np.abs(test_signals_scaled), axis=1)\n",
    "\n",
    "g = sns.histplot(max_scaled, bins=40, log_scale=(False,True))\n",
    "g.axes.xaxis.set_minor_locator(  AutoMinorLocator(5))\n",
    "g.axes.set_xlim(0,5.3)\n",
    "g.axes.set_xlabel(r'max(abs(signal)) [V/m]')\n",
    "g.figure.savefig('thesis/Exjobb-rapport/figures/scaled-dist.pdf', dpi=300)\n",
    "# arg = np.argmax(max)\n",
    "# print(test_condition[arg,0], test_condition[arg,1]/units.deg, arg)\n",
    "\"\"\" x = range(0, n)\n",
    "fig, ax = plt.subplots(2,2,figsize=(10,10))\n",
    "ax[0, 0].scatter(x, max)\n",
    "ax[0, 1].scatter(x, max_escale)\n",
    "ax[1, 0].scatter(x, max_ascale)\n",
    "ax[1, 1].scatter(x, max_scaled) \"\"\"\n",
    "#ax[1, 0].set_ylim(0,2)\n",
    "#ax[0, 1].set_ylim(0,2)\n",
    "#ax[1, 1].set_ylim(0,2)"
   ]
  }
 ],
 "metadata": {
  "interpreter": {
   "hash": "8431b5f48b3450d7e01e7bddb77d6d041c9df4b36b0dd110671962478981bb01"
  },
  "kernelspec": {
   "display_name": "Python 3.9.12 ('tf2.4')",
   "language": "python",
   "name": "python3"
  },
  "language_info": {
   "codemirror_mode": {
    "name": "ipython",
    "version": 3
   },
   "file_extension": ".py",
   "mimetype": "text/x-python",
   "name": "python",
   "nbconvert_exporter": "python",
   "pygments_lexer": "ipython3",
   "version": "3.9.12"
  },
  "orig_nbformat": 4
 },
 "nbformat": 4,
 "nbformat_minor": 2
}
